{
 "cells": [
  {
   "cell_type": "markdown",
   "metadata": {
    "application/vnd.databricks.v1+cell": {
     "cellMetadata": {},
     "inputWidgets": {},
     "nuid": "461add11-317c-4e35-bb62-0da647733297",
     "showTitle": false,
     "title": ""
    }
   },
   "source": [
    "# Access S3 data directly without mounting"
   ]
  },
  {
   "cell_type": "code",
   "execution_count": 0,
   "metadata": {
    "application/vnd.databricks.v1+cell": {
     "cellMetadata": {
      "byteLimit": 2048000,
      "rowLimit": 10000
     },
     "inputWidgets": {},
     "nuid": "93a0205d-102d-4e77-8b48-ee53aaa9919a",
     "showTitle": false,
     "title": ""
    }
   },
   "outputs": [
    {
     "output_type": "stream",
     "name": "stdout",
     "output_type": "stream",
     "text": [
      "+--------------------+----------+--------------------+--------------------+-------------+---------------+---------+------------+------------+\n|           Unique_ID|      Date|           JSON_Data|   Match_Performance|Injury_Status|Player_Position|Team_Name|Goals_Scored|Assists_Made|\n+--------------------+----------+--------------------+--------------------+-------------+---------------+---------+------------+------------+\n|TEAM_4822-PLAYER_...|2023-09-08|{\"player_name\": \"...|['Match_1', 'Matc...|        false|       Defender|   Team_3|          20|          17|\n|TEAM_6212-PLAYER_...|2023-04-25|{\"player_name\": \"...|['Match_1', 'Matc...|         true|       Defender|  Team_19|          11|          14|\n+--------------------+----------+--------------------+--------------------+-------------+---------------+---------+------------+------------+\nonly showing top 2 rows\n\n"
     ]
    }
   ],
   "source": [
    "access_key = \"123\"\n",
    "secret_key = \"456\"\n",
    "spark.conf.set(\"fs.s3a.access.key\", access_key)\n",
    "spark.conf.set(\"fs.s3a.secret.key\", secret_key)\n",
    "spark.conf.set(\"fs.s3a.endpoint\", \"s3.amazonaws.com\")\n",
    "file_location = \"s3a://dbdata244/football_data.csv\"\n",
    "df = spark.read.format(\"csv\") \\\n",
    "    .option(\"header\", \"true\") \\\n",
    "    .option(\"quote\", '\"') \\\n",
    "    .option(\"escape\", '\"') \\\n",
    "    .option(\"multiline\", \"true\") \\\n",
    "    .option(\"inferSchema\", \"true\") \\\n",
    "    .load(file_location)\n",
    "df.show(2)"
   ]
  },
  {
   "cell_type": "code",
   "execution_count": 0,
   "metadata": {
    "application/vnd.databricks.v1+cell": {
     "cellMetadata": {
      "byteLimit": 2048000,
      "rowLimit": 10000
     },
     "inputWidgets": {},
     "nuid": "f8c14ca3-3262-4a2f-aa5a-48f651053a68",
     "showTitle": false,
     "title": ""
    }
   },
   "outputs": [
    {
     "output_type": "display_data",
     "data": {
      "text/html": [
       "<style scoped>\n",
       "  .table-result-container {\n",
       "    max-height: 300px;\n",
       "    overflow: auto;\n",
       "  }\n",
       "  table, th, td {\n",
       "    border: 1px solid black;\n",
       "    border-collapse: collapse;\n",
       "  }\n",
       "  th, td {\n",
       "    padding: 5px;\n",
       "  }\n",
       "  th {\n",
       "    text-align: left;\n",
       "  }\n",
       "</style><div class='table-result-container'><table class='table-result'><thead style='background-color: white'><tr><th>Unique_ID</th><th>Date</th><th>JSON_Data</th><th>Match_Performance</th><th>Injury_Status</th><th>Player_Position</th><th>Team_Name</th><th>Goals_Scored</th><th>Assists_Made</th></tr></thead><tbody><tr><td>TEAM_4822-PLAYER_9813</td><td>2023-09-08</td><td>{\"player_name\": \"Player_1\", \"stats\": {\"goals\": 4, \"assists\": 15, \"position\": \"Forward\", \"team\": {\"name\": \"Team_11\", \"stadium\": \"Stadium_2\"}}, \"is_captain\": true}</td><td>['Match_1', 'Match_2', 'Match_3', [8, 8, 6]]</td><td>false</td><td>Defender</td><td>Team_3</td><td>20</td><td>17</td></tr><tr><td>TEAM_6212-PLAYER_3438</td><td>2023-04-25</td><td>{\"player_name\": \"Player_2\", \"stats\": {\"goals\": 14, \"assists\": 19, \"position\": \"Midfielder\", \"team\": {\"name\": \"Team_16\", \"stadium\": \"Stadium_13\"}}, \"is_captain\": false}</td><td>['Match_1', 'Match_2', 'Match_3', [6, 10, 6]]</td><td>true</td><td>Defender</td><td>Team_19</td><td>11</td><td>14</td></tr><tr><td>TEAM_9590-PLAYER_3504</td><td>2023-01-21</td><td>{\"player_name\": \"Player_3\", \"stats\": {\"goals\": 7, \"assists\": 11, \"position\": \"Defender\", \"team\": {\"name\": \"Team_14\", \"stadium\": \"Stadium_5\"}}, \"is_captain\": false}</td><td>['Match_1', 'Match_2', 'Match_3', [7, 8, 6]]</td><td>false</td><td>Defender</td><td>Team_18</td><td>9</td><td>7</td></tr><tr><td>TEAM_4059-PLAYER_5756</td><td>2023-09-09</td><td>{\"player_name\": \"Player_4\", \"stats\": {\"goals\": 9, \"assists\": 20, \"position\": \"Forward\", \"team\": {\"name\": \"Team_12\", \"stadium\": \"Stadium_1\"}}, \"is_captain\": false}</td><td>['Match_1', 'Match_2', 'Match_3', [10, 6, 10]]</td><td>false</td><td>Forward</td><td>Team_6</td><td>10</td><td>14</td></tr><tr><td>TEAM_7904-PLAYER_8293</td><td>2023-11-09</td><td>{\"player_name\": \"Player_5\", \"stats\": {\"goals\": 11, \"assists\": 4, \"position\": \"Forward\", \"team\": {\"name\": \"Team_11\", \"stadium\": \"Stadium_12\"}}, \"is_captain\": false}</td><td>['Match_1', 'Match_2', 'Match_3', [9, 10, 7]]</td><td>true</td><td>Forward</td><td>Team_4</td><td>24</td><td>11</td></tr><tr><td>TEAM_9860-PLAYER_9831</td><td>2023-06-09</td><td>{\"player_name\": \"Player_6\", \"stats\": {\"goals\": 19, \"assists\": 10, \"position\": \"Forward\", \"team\": {\"name\": \"Team_1\", \"stadium\": \"Stadium_5\"}}, \"is_captain\": true}</td><td>['Match_1', 'Match_2', 'Match_3', [5, 8, 8]]</td><td>true</td><td>Forward</td><td>Team_6</td><td>3</td><td>7</td></tr><tr><td>TEAM_9147-PLAYER_4698</td><td>2023-02-16</td><td>{\"player_name\": \"Player_7\", \"stats\": {\"goals\": 17, \"assists\": 13, \"position\": \"Midfielder\", \"team\": {\"name\": \"Team_4\", \"stadium\": \"Stadium_19\"}}, \"is_captain\": true}</td><td>['Match_1', 'Match_2', 'Match_3', [5, 6, 8]]</td><td>true</td><td>Goalkeeper</td><td>Team_12</td><td>13</td><td>3</td></tr><tr><td>TEAM_5813-PLAYER_1667</td><td>2023-11-25</td><td>{\"player_name\": \"Player_8\", \"stats\": {\"goals\": 30, \"assists\": 16, \"position\": \"Forward\", \"team\": {\"name\": \"Team_16\", \"stadium\": \"Stadium_18\"}}, \"is_captain\": true}</td><td>['Match_1', 'Match_2', 'Match_3', [9, 10, 5]]</td><td>true</td><td>Goalkeeper</td><td>Team_7</td><td>0</td><td>17</td></tr><tr><td>TEAM_1981-PLAYER_3530</td><td>2023-10-08</td><td>{\"player_name\": \"Player_9\", \"stats\": {\"goals\": 0, \"assists\": 9, \"position\": \"Goalkeeper\", \"team\": {\"name\": \"Team_8\", \"stadium\": \"Stadium_11\"}}, \"is_captain\": true}</td><td>['Match_1', 'Match_2', 'Match_3', [10, 5, 9]]</td><td>true</td><td>Midfielder</td><td>Team_20</td><td>21</td><td>2</td></tr><tr><td>TEAM_7677-PLAYER_2064</td><td>2023-03-15</td><td>{\"player_name\": \"Player_10\", \"stats\": {\"goals\": 21, \"assists\": 16, \"position\": \"Midfielder\", \"team\": {\"name\": \"Team_1\", \"stadium\": \"Stadium_1\"}}, \"is_captain\": false}</td><td>['Match_1', 'Match_2', 'Match_3', [10, 9, 5]]</td><td>true</td><td>Midfielder</td><td>Team_11</td><td>11</td><td>9</td></tr><tr><td>TEAM_5046-PLAYER_9066</td><td>2023-05-18</td><td>{\"player_name\": \"Player_11\", \"stats\": {\"goals\": 16, \"assists\": 14, \"position\": \"Midfielder\", \"team\": {\"name\": \"Team_13\", \"stadium\": \"Stadium_7\"}}, \"is_captain\": true}</td><td>['Match_1', 'Match_2', 'Match_3', [9, 5, 6]]</td><td>false</td><td>Forward</td><td>Team_14</td><td>10</td><td>20</td></tr><tr><td>TEAM_9115-PLAYER_5655</td><td>2023-04-02</td><td>{\"player_name\": \"Player_12\", \"stats\": {\"goals\": 21, \"assists\": 7, \"position\": \"Goalkeeper\", \"team\": {\"name\": \"Team_3\", \"stadium\": \"Stadium_17\"}}, \"is_captain\": true}</td><td>['Match_1', 'Match_2', 'Match_3', [6, 9, 7]]</td><td>true</td><td>Forward</td><td>Team_11</td><td>28</td><td>6</td></tr><tr><td>TEAM_2008-PLAYER_4865</td><td>2023-10-16</td><td>{\"player_name\": \"Player_13\", \"stats\": {\"goals\": 7, \"assists\": 15, \"position\": \"Defender\", \"team\": {\"name\": \"Team_3\", \"stadium\": \"Stadium_1\"}}, \"is_captain\": false}</td><td>['Match_1', 'Match_2', 'Match_3', [10, 5, 6]]</td><td>false</td><td>Defender</td><td>Team_10</td><td>16</td><td>14</td></tr><tr><td>TEAM_2153-PLAYER_2429</td><td>2023-07-19</td><td>{\"player_name\": \"Player_14\", \"stats\": {\"goals\": 3, \"assists\": 8, \"position\": \"Forward\", \"team\": {\"name\": \"Team_12\", \"stadium\": \"Stadium_2\"}}, \"is_captain\": false}</td><td>['Match_1', 'Match_2', 'Match_3', [10, 9, 7]]</td><td>true</td><td>Midfielder</td><td>Team_19</td><td>8</td><td>5</td></tr><tr><td>TEAM_6246-PLAYER_9328</td><td>2023-05-17</td><td>{\"player_name\": \"Player_15\", \"stats\": {\"goals\": 5, \"assists\": 12, \"position\": \"Midfielder\", \"team\": {\"name\": \"Team_20\", \"stadium\": \"Stadium_3\"}}, \"is_captain\": true}</td><td>['Match_1', 'Match_2', 'Match_3', [9, 5, 7]]</td><td>true</td><td>Goalkeeper</td><td>Team_1</td><td>29</td><td>20</td></tr><tr><td>TEAM_2573-PLAYER_7743</td><td>2023-02-28</td><td>{\"player_name\": \"Player_16\", \"stats\": {\"goals\": 30, \"assists\": 17, \"position\": \"Goalkeeper\", \"team\": {\"name\": \"Team_10\", \"stadium\": \"Stadium_5\"}}, \"is_captain\": false}</td><td>['Match_1', 'Match_2', 'Match_3', [5, 5, 6]]</td><td>true</td><td>Goalkeeper</td><td>Team_18</td><td>23</td><td>12</td></tr><tr><td>TEAM_9376-PLAYER_7020</td><td>2023-06-13</td><td>{\"player_name\": \"Player_17\", \"stats\": {\"goals\": 21, \"assists\": 19, \"position\": \"Forward\", \"team\": {\"name\": \"Team_2\", \"stadium\": \"Stadium_16\"}}, \"is_captain\": false}</td><td>['Match_1', 'Match_2', 'Match_3', [9, 6, 10]]</td><td>false</td><td>Defender</td><td>Team_4</td><td>4</td><td>1</td></tr><tr><td>TEAM_5483-PLAYER_5709</td><td>2023-04-19</td><td>{\"player_name\": \"Player_18\", \"stats\": {\"goals\": 17, \"assists\": 2, \"position\": \"Defender\", \"team\": {\"name\": \"Team_2\", \"stadium\": \"Stadium_4\"}}, \"is_captain\": false}</td><td>['Match_1', 'Match_2', 'Match_3', [8, 10, 8]]</td><td>false</td><td>Forward</td><td>Team_20</td><td>7</td><td>0</td></tr><tr><td>TEAM_7903-PLAYER_8959</td><td>2023-04-09</td><td>{\"player_name\": \"Player_19\", \"stats\": {\"goals\": 18, \"assists\": 10, \"position\": \"Goalkeeper\", \"team\": {\"name\": \"Team_8\", \"stadium\": \"Stadium_4\"}}, \"is_captain\": false}</td><td>['Match_1', 'Match_2', 'Match_3', [6, 5, 10]]</td><td>true</td><td>Goalkeeper</td><td>Team_13</td><td>10</td><td>15</td></tr><tr><td>TEAM_9814-PLAYER_3818</td><td>2023-05-10</td><td>{\"player_name\": \"Player_20\", \"stats\": {\"goals\": 1, \"assists\": 11, \"position\": \"Forward\", \"team\": {\"name\": \"Team_2\", \"stadium\": \"Stadium_10\"}}, \"is_captain\": false}</td><td>['Match_1', 'Match_2', 'Match_3', [8, 5, 8]]</td><td>false</td><td>Defender</td><td>Team_7</td><td>7</td><td>7</td></tr></tbody></table></div>"
      ]
     },
     "metadata": {
      "application/vnd.databricks.v1+output": {
       "addedWidgets": {},
       "aggData": [],
       "aggError": "",
       "aggOverflow": false,
       "aggSchema": [],
       "aggSeriesLimitReached": false,
       "aggType": "",
       "arguments": {},
       "columnCustomDisplayInfos": {},
       "data": [
        [
         "TEAM_4822-PLAYER_9813",
         "2023-09-08",
         "{\"player_name\": \"Player_1\", \"stats\": {\"goals\": 4, \"assists\": 15, \"position\": \"Forward\", \"team\": {\"name\": \"Team_11\", \"stadium\": \"Stadium_2\"}}, \"is_captain\": true}",
         "['Match_1', 'Match_2', 'Match_3', [8, 8, 6]]",
         false,
         "Defender",
         "Team_3",
         20,
         17
        ],
        [
         "TEAM_6212-PLAYER_3438",
         "2023-04-25",
         "{\"player_name\": \"Player_2\", \"stats\": {\"goals\": 14, \"assists\": 19, \"position\": \"Midfielder\", \"team\": {\"name\": \"Team_16\", \"stadium\": \"Stadium_13\"}}, \"is_captain\": false}",
         "['Match_1', 'Match_2', 'Match_3', [6, 10, 6]]",
         true,
         "Defender",
         "Team_19",
         11,
         14
        ],
        [
         "TEAM_9590-PLAYER_3504",
         "2023-01-21",
         "{\"player_name\": \"Player_3\", \"stats\": {\"goals\": 7, \"assists\": 11, \"position\": \"Defender\", \"team\": {\"name\": \"Team_14\", \"stadium\": \"Stadium_5\"}}, \"is_captain\": false}",
         "['Match_1', 'Match_2', 'Match_3', [7, 8, 6]]",
         false,
         "Defender",
         "Team_18",
         9,
         7
        ],
        [
         "TEAM_4059-PLAYER_5756",
         "2023-09-09",
         "{\"player_name\": \"Player_4\", \"stats\": {\"goals\": 9, \"assists\": 20, \"position\": \"Forward\", \"team\": {\"name\": \"Team_12\", \"stadium\": \"Stadium_1\"}}, \"is_captain\": false}",
         "['Match_1', 'Match_2', 'Match_3', [10, 6, 10]]",
         false,
         "Forward",
         "Team_6",
         10,
         14
        ],
        [
         "TEAM_7904-PLAYER_8293",
         "2023-11-09",
         "{\"player_name\": \"Player_5\", \"stats\": {\"goals\": 11, \"assists\": 4, \"position\": \"Forward\", \"team\": {\"name\": \"Team_11\", \"stadium\": \"Stadium_12\"}}, \"is_captain\": false}",
         "['Match_1', 'Match_2', 'Match_3', [9, 10, 7]]",
         true,
         "Forward",
         "Team_4",
         24,
         11
        ],
        [
         "TEAM_9860-PLAYER_9831",
         "2023-06-09",
         "{\"player_name\": \"Player_6\", \"stats\": {\"goals\": 19, \"assists\": 10, \"position\": \"Forward\", \"team\": {\"name\": \"Team_1\", \"stadium\": \"Stadium_5\"}}, \"is_captain\": true}",
         "['Match_1', 'Match_2', 'Match_3', [5, 8, 8]]",
         true,
         "Forward",
         "Team_6",
         3,
         7
        ],
        [
         "TEAM_9147-PLAYER_4698",
         "2023-02-16",
         "{\"player_name\": \"Player_7\", \"stats\": {\"goals\": 17, \"assists\": 13, \"position\": \"Midfielder\", \"team\": {\"name\": \"Team_4\", \"stadium\": \"Stadium_19\"}}, \"is_captain\": true}",
         "['Match_1', 'Match_2', 'Match_3', [5, 6, 8]]",
         true,
         "Goalkeeper",
         "Team_12",
         13,
         3
        ],
        [
         "TEAM_5813-PLAYER_1667",
         "2023-11-25",
         "{\"player_name\": \"Player_8\", \"stats\": {\"goals\": 30, \"assists\": 16, \"position\": \"Forward\", \"team\": {\"name\": \"Team_16\", \"stadium\": \"Stadium_18\"}}, \"is_captain\": true}",
         "['Match_1', 'Match_2', 'Match_3', [9, 10, 5]]",
         true,
         "Goalkeeper",
         "Team_7",
         0,
         17
        ],
        [
         "TEAM_1981-PLAYER_3530",
         "2023-10-08",
         "{\"player_name\": \"Player_9\", \"stats\": {\"goals\": 0, \"assists\": 9, \"position\": \"Goalkeeper\", \"team\": {\"name\": \"Team_8\", \"stadium\": \"Stadium_11\"}}, \"is_captain\": true}",
         "['Match_1', 'Match_2', 'Match_3', [10, 5, 9]]",
         true,
         "Midfielder",
         "Team_20",
         21,
         2
        ],
        [
         "TEAM_7677-PLAYER_2064",
         "2023-03-15",
         "{\"player_name\": \"Player_10\", \"stats\": {\"goals\": 21, \"assists\": 16, \"position\": \"Midfielder\", \"team\": {\"name\": \"Team_1\", \"stadium\": \"Stadium_1\"}}, \"is_captain\": false}",
         "['Match_1', 'Match_2', 'Match_3', [10, 9, 5]]",
         true,
         "Midfielder",
         "Team_11",
         11,
         9
        ],
        [
         "TEAM_5046-PLAYER_9066",
         "2023-05-18",
         "{\"player_name\": \"Player_11\", \"stats\": {\"goals\": 16, \"assists\": 14, \"position\": \"Midfielder\", \"team\": {\"name\": \"Team_13\", \"stadium\": \"Stadium_7\"}}, \"is_captain\": true}",
         "['Match_1', 'Match_2', 'Match_3', [9, 5, 6]]",
         false,
         "Forward",
         "Team_14",
         10,
         20
        ],
        [
         "TEAM_9115-PLAYER_5655",
         "2023-04-02",
         "{\"player_name\": \"Player_12\", \"stats\": {\"goals\": 21, \"assists\": 7, \"position\": \"Goalkeeper\", \"team\": {\"name\": \"Team_3\", \"stadium\": \"Stadium_17\"}}, \"is_captain\": true}",
         "['Match_1', 'Match_2', 'Match_3', [6, 9, 7]]",
         true,
         "Forward",
         "Team_11",
         28,
         6
        ],
        [
         "TEAM_2008-PLAYER_4865",
         "2023-10-16",
         "{\"player_name\": \"Player_13\", \"stats\": {\"goals\": 7, \"assists\": 15, \"position\": \"Defender\", \"team\": {\"name\": \"Team_3\", \"stadium\": \"Stadium_1\"}}, \"is_captain\": false}",
         "['Match_1', 'Match_2', 'Match_3', [10, 5, 6]]",
         false,
         "Defender",
         "Team_10",
         16,
         14
        ],
        [
         "TEAM_2153-PLAYER_2429",
         "2023-07-19",
         "{\"player_name\": \"Player_14\", \"stats\": {\"goals\": 3, \"assists\": 8, \"position\": \"Forward\", \"team\": {\"name\": \"Team_12\", \"stadium\": \"Stadium_2\"}}, \"is_captain\": false}",
         "['Match_1', 'Match_2', 'Match_3', [10, 9, 7]]",
         true,
         "Midfielder",
         "Team_19",
         8,
         5
        ],
        [
         "TEAM_6246-PLAYER_9328",
         "2023-05-17",
         "{\"player_name\": \"Player_15\", \"stats\": {\"goals\": 5, \"assists\": 12, \"position\": \"Midfielder\", \"team\": {\"name\": \"Team_20\", \"stadium\": \"Stadium_3\"}}, \"is_captain\": true}",
         "['Match_1', 'Match_2', 'Match_3', [9, 5, 7]]",
         true,
         "Goalkeeper",
         "Team_1",
         29,
         20
        ],
        [
         "TEAM_2573-PLAYER_7743",
         "2023-02-28",
         "{\"player_name\": \"Player_16\", \"stats\": {\"goals\": 30, \"assists\": 17, \"position\": \"Goalkeeper\", \"team\": {\"name\": \"Team_10\", \"stadium\": \"Stadium_5\"}}, \"is_captain\": false}",
         "['Match_1', 'Match_2', 'Match_3', [5, 5, 6]]",
         true,
         "Goalkeeper",
         "Team_18",
         23,
         12
        ],
        [
         "TEAM_9376-PLAYER_7020",
         "2023-06-13",
         "{\"player_name\": \"Player_17\", \"stats\": {\"goals\": 21, \"assists\": 19, \"position\": \"Forward\", \"team\": {\"name\": \"Team_2\", \"stadium\": \"Stadium_16\"}}, \"is_captain\": false}",
         "['Match_1', 'Match_2', 'Match_3', [9, 6, 10]]",
         false,
         "Defender",
         "Team_4",
         4,
         1
        ],
        [
         "TEAM_5483-PLAYER_5709",
         "2023-04-19",
         "{\"player_name\": \"Player_18\", \"stats\": {\"goals\": 17, \"assists\": 2, \"position\": \"Defender\", \"team\": {\"name\": \"Team_2\", \"stadium\": \"Stadium_4\"}}, \"is_captain\": false}",
         "['Match_1', 'Match_2', 'Match_3', [8, 10, 8]]",
         false,
         "Forward",
         "Team_20",
         7,
         0
        ],
        [
         "TEAM_7903-PLAYER_8959",
         "2023-04-09",
         "{\"player_name\": \"Player_19\", \"stats\": {\"goals\": 18, \"assists\": 10, \"position\": \"Goalkeeper\", \"team\": {\"name\": \"Team_8\", \"stadium\": \"Stadium_4\"}}, \"is_captain\": false}",
         "['Match_1', 'Match_2', 'Match_3', [6, 5, 10]]",
         true,
         "Goalkeeper",
         "Team_13",
         10,
         15
        ],
        [
         "TEAM_9814-PLAYER_3818",
         "2023-05-10",
         "{\"player_name\": \"Player_20\", \"stats\": {\"goals\": 1, \"assists\": 11, \"position\": \"Forward\", \"team\": {\"name\": \"Team_2\", \"stadium\": \"Stadium_10\"}}, \"is_captain\": false}",
         "['Match_1', 'Match_2', 'Match_3', [8, 5, 8]]",
         false,
         "Defender",
         "Team_7",
         7,
         7
        ]
       ],
       "datasetInfos": [],
       "dbfsResultPath": null,
       "isJsonSchema": true,
       "metadata": {},
       "overflow": false,
       "plotOptions": {
        "customPlotOptions": {},
        "displayType": "table",
        "pivotAggregation": null,
        "pivotColumns": null,
        "xColumns": null,
        "yColumns": null
       },
       "removedWidgets": [],
       "schema": [
        {
         "metadata": "{}",
         "name": "Unique_ID",
         "type": "\"string\""
        },
        {
         "metadata": "{\"__detected_date_formats\":\"yyyy-M-d\"}",
         "name": "Date",
         "type": "\"date\""
        },
        {
         "metadata": "{}",
         "name": "JSON_Data",
         "type": "\"string\""
        },
        {
         "metadata": "{}",
         "name": "Match_Performance",
         "type": "\"string\""
        },
        {
         "metadata": "{}",
         "name": "Injury_Status",
         "type": "\"boolean\""
        },
        {
         "metadata": "{}",
         "name": "Player_Position",
         "type": "\"string\""
        },
        {
         "metadata": "{}",
         "name": "Team_Name",
         "type": "\"string\""
        },
        {
         "metadata": "{}",
         "name": "Goals_Scored",
         "type": "\"integer\""
        },
        {
         "metadata": "{}",
         "name": "Assists_Made",
         "type": "\"integer\""
        }
       ],
       "type": "table"
      }
     },
     "output_type": "display_data"
    }
   ],
   "source": [
    "display(df)"
   ]
  },
  {
   "cell_type": "markdown",
   "metadata": {
    "application/vnd.databricks.v1+cell": {
     "cellMetadata": {},
     "inputWidgets": {},
     "nuid": "a202c863-2a8f-4d48-8b44-c17a31c7b243",
     "showTitle": false,
     "title": ""
    }
   },
   "source": [
    "# Data Processing\n",
    "Json Flatten, Json Schema functions.... Array explode functions.....date format functions....UDF.... dynamic view masking.....constraints"
   ]
  },
  {
   "cell_type": "code",
   "execution_count": 0,
   "metadata": {
    "application/vnd.databricks.v1+cell": {
     "cellMetadata": {
      "byteLimit": 2048000,
      "rowLimit": 10000
     },
     "inputWidgets": {},
     "nuid": "1ef1f21e-35b1-4554-b0fd-2d93dbadc795",
     "showTitle": false,
     "title": ""
    }
   },
   "outputs": [],
   "source": [
    "# Creating a temp table for AQL analysis as well\n",
    "df.createOrReplaceTempView(\"football\")"
   ]
  },
  {
   "cell_type": "code",
   "execution_count": 0,
   "metadata": {
    "application/vnd.databricks.v1+cell": {
     "cellMetadata": {
      "byteLimit": 2048000,
      "implicitDf": true,
      "rowLimit": 10000
     },
     "inputWidgets": {},
     "nuid": "7d8dea6d-9660-47bb-8d62-e636f0ea4c92",
     "showTitle": false,
     "title": ""
    }
   },
   "outputs": [
    {
     "output_type": "display_data",
     "data": {
      "text/html": [
       "<style scoped>\n",
       "  .table-result-container {\n",
       "    max-height: 300px;\n",
       "    overflow: auto;\n",
       "  }\n",
       "  table, th, td {\n",
       "    border: 1px solid black;\n",
       "    border-collapse: collapse;\n",
       "  }\n",
       "  th, td {\n",
       "    padding: 5px;\n",
       "  }\n",
       "  th {\n",
       "    text-align: left;\n",
       "  }\n",
       "</style><div class='table-result-container'><table class='table-result'><thead style='background-color: white'><tr><th>Unique_ID</th><th>Date</th><th>JSON_Data</th><th>Match_Performance</th><th>Injury_Status</th><th>Player_Position</th><th>Team_Name</th><th>Goals_Scored</th><th>Assists_Made</th></tr></thead><tbody><tr><td>TEAM_4822-PLAYER_9813</td><td>2023-09-08</td><td>{\"player_name\": \"Player_1\", \"stats\": {\"goals\": 4, \"assists\": 15, \"position\": \"Forward\", \"team\": {\"name\": \"Team_11\", \"stadium\": \"Stadium_2\"}}, \"is_captain\": true}</td><td>['Match_1', 'Match_2', 'Match_3', [8, 8, 6]]</td><td>false</td><td>Defender</td><td>Team_3</td><td>20</td><td>17</td></tr><tr><td>TEAM_6212-PLAYER_3438</td><td>2023-04-25</td><td>{\"player_name\": \"Player_2\", \"stats\": {\"goals\": 14, \"assists\": 19, \"position\": \"Midfielder\", \"team\": {\"name\": \"Team_16\", \"stadium\": \"Stadium_13\"}}, \"is_captain\": false}</td><td>['Match_1', 'Match_2', 'Match_3', [6, 10, 6]]</td><td>true</td><td>Defender</td><td>Team_19</td><td>11</td><td>14</td></tr></tbody></table></div>"
      ]
     },
     "metadata": {
      "application/vnd.databricks.v1+output": {
       "addedWidgets": {},
       "aggData": [],
       "aggError": "",
       "aggOverflow": false,
       "aggSchema": [],
       "aggSeriesLimitReached": false,
       "aggType": "",
       "arguments": {},
       "columnCustomDisplayInfos": {},
       "data": [
        [
         "TEAM_4822-PLAYER_9813",
         "2023-09-08",
         "{\"player_name\": \"Player_1\", \"stats\": {\"goals\": 4, \"assists\": 15, \"position\": \"Forward\", \"team\": {\"name\": \"Team_11\", \"stadium\": \"Stadium_2\"}}, \"is_captain\": true}",
         "['Match_1', 'Match_2', 'Match_3', [8, 8, 6]]",
         false,
         "Defender",
         "Team_3",
         20,
         17
        ],
        [
         "TEAM_6212-PLAYER_3438",
         "2023-04-25",
         "{\"player_name\": \"Player_2\", \"stats\": {\"goals\": 14, \"assists\": 19, \"position\": \"Midfielder\", \"team\": {\"name\": \"Team_16\", \"stadium\": \"Stadium_13\"}}, \"is_captain\": false}",
         "['Match_1', 'Match_2', 'Match_3', [6, 10, 6]]",
         true,
         "Defender",
         "Team_19",
         11,
         14
        ]
       ],
       "datasetInfos": [],
       "dbfsResultPath": null,
       "isJsonSchema": true,
       "metadata": {
        "dataframeName": "_sqldf",
        "executionCount": 25
       },
       "overflow": false,
       "plotOptions": {
        "customPlotOptions": {},
        "displayType": "table",
        "pivotAggregation": null,
        "pivotColumns": null,
        "xColumns": null,
        "yColumns": null
       },
       "removedWidgets": [],
       "schema": [
        {
         "metadata": "{}",
         "name": "Unique_ID",
         "type": "\"string\""
        },
        {
         "metadata": "{\"__detected_date_formats\":\"yyyy-M-d\"}",
         "name": "Date",
         "type": "\"date\""
        },
        {
         "metadata": "{}",
         "name": "JSON_Data",
         "type": "\"string\""
        },
        {
         "metadata": "{}",
         "name": "Match_Performance",
         "type": "\"string\""
        },
        {
         "metadata": "{}",
         "name": "Injury_Status",
         "type": "\"boolean\""
        },
        {
         "metadata": "{}",
         "name": "Player_Position",
         "type": "\"string\""
        },
        {
         "metadata": "{}",
         "name": "Team_Name",
         "type": "\"string\""
        },
        {
         "metadata": "{}",
         "name": "Goals_Scored",
         "type": "\"integer\""
        },
        {
         "metadata": "{}",
         "name": "Assists_Made",
         "type": "\"integer\""
        }
       ],
       "type": "table"
      }
     },
     "output_type": "display_data"
    }
   ],
   "source": [
    "%sql\n",
    "SELECT * FROM football limit 2;"
   ]
  },
  {
   "cell_type": "code",
   "execution_count": 0,
   "metadata": {
    "application/vnd.databricks.v1+cell": {
     "cellMetadata": {
      "byteLimit": 2048000,
      "rowLimit": 10000
     },
     "inputWidgets": {},
     "nuid": "c44c8a3a-a35d-49ba-a15d-ef9c8f632687",
     "showTitle": false,
     "title": ""
    }
   },
   "outputs": [
    {
     "output_type": "stream",
     "name": "stdout",
     "output_type": "stream",
     "text": [
      "root\n |-- Unique_ID: string (nullable = true)\n |-- Date: date (nullable = true)\n |-- JSON_Data: string (nullable = true)\n |-- Match_Performance: string (nullable = true)\n |-- Injury_Status: boolean (nullable = true)\n |-- Player_Position: string (nullable = true)\n |-- Team_Name: string (nullable = true)\n |-- Goals_Scored: integer (nullable = true)\n |-- Assists_Made: integer (nullable = true)\n\n"
     ]
    }
   ],
   "source": [
    "df.printSchema()"
   ]
  },
  {
   "cell_type": "code",
   "execution_count": 0,
   "metadata": {
    "application/vnd.databricks.v1+cell": {
     "cellMetadata": {
      "byteLimit": 2048000,
      "implicitDf": true,
      "rowLimit": 10000
     },
     "inputWidgets": {},
     "nuid": "c6606754-1938-465b-81a3-d0f045cdaadc",
     "showTitle": false,
     "title": ""
    }
   },
   "outputs": [
    {
     "output_type": "display_data",
     "data": {
      "text/html": [
       "<style scoped>\n",
       "  .table-result-container {\n",
       "    max-height: 300px;\n",
       "    overflow: auto;\n",
       "  }\n",
       "  table, th, td {\n",
       "    border: 1px solid black;\n",
       "    border-collapse: collapse;\n",
       "  }\n",
       "  th, td {\n",
       "    padding: 5px;\n",
       "  }\n",
       "  th {\n",
       "    text-align: left;\n",
       "  }\n",
       "</style><div class='table-result-container'><table class='table-result'><thead style='background-color: white'><tr><th>stats</th></tr></thead><tbody><tr><td>{\"goals\":4,\"assists\":15,\"position\":\"Forward\",\"team\":{\"name\":\"Team_11\",\"stadium\":\"Stadium_2\"}}</td></tr><tr><td>{\"goals\":14,\"assists\":19,\"position\":\"Midfielder\",\"team\":{\"name\":\"Team_16\",\"stadium\":\"Stadium_13\"}}</td></tr></tbody></table></div>"
      ]
     },
     "metadata": {
      "application/vnd.databricks.v1+output": {
       "addedWidgets": {},
       "aggData": [],
       "aggError": "",
       "aggOverflow": false,
       "aggSchema": [],
       "aggSeriesLimitReached": false,
       "aggType": "",
       "arguments": {},
       "columnCustomDisplayInfos": {},
       "data": [
        [
         "{\"goals\":4,\"assists\":15,\"position\":\"Forward\",\"team\":{\"name\":\"Team_11\",\"stadium\":\"Stadium_2\"}}"
        ],
        [
         "{\"goals\":14,\"assists\":19,\"position\":\"Midfielder\",\"team\":{\"name\":\"Team_16\",\"stadium\":\"Stadium_13\"}}"
        ]
       ],
       "datasetInfos": [],
       "dbfsResultPath": null,
       "isJsonSchema": true,
       "metadata": {
        "dataframeName": "_sqldf",
        "executionCount": 28
       },
       "overflow": false,
       "plotOptions": {
        "customPlotOptions": {},
        "displayType": "table",
        "pivotAggregation": null,
        "pivotColumns": null,
        "xColumns": null,
        "yColumns": null
       },
       "removedWidgets": [],
       "schema": [
        {
         "metadata": "{}",
         "name": "stats",
         "type": "\"string\""
        }
       ],
       "type": "table"
      }
     },
     "output_type": "display_data"
    }
   ],
   "source": [
    "%sql\n",
    "select JSON_DATA:stats FROM FOOTBALL LIMIT 2;"
   ]
  },
  {
   "cell_type": "code",
   "execution_count": 0,
   "metadata": {
    "application/vnd.databricks.v1+cell": {
     "cellMetadata": {
      "byteLimit": 2048000,
      "rowLimit": 10000
     },
     "inputWidgets": {},
     "nuid": "d5cbb1d8-07b1-4d45-be15-08b8e29f4f0e",
     "showTitle": false,
     "title": ""
    }
   },
   "outputs": [
    {
     "output_type": "display_data",
     "data": {
      "text/html": [
       "<style scoped>\n",
       "  .table-result-container {\n",
       "    max-height: 300px;\n",
       "    overflow: auto;\n",
       "  }\n",
       "  table, th, td {\n",
       "    border: 1px solid black;\n",
       "    border-collapse: collapse;\n",
       "  }\n",
       "  th, td {\n",
       "    padding: 5px;\n",
       "  }\n",
       "  th {\n",
       "    text-align: left;\n",
       "  }\n",
       "</style><div class='table-result-container'><table class='table-result'><thead style='background-color: white'><tr><th>Unique_ID</th><th>Date</th><th>JSON_Data</th><th>Match_Performance</th><th>Injury_Status</th><th>Player_Position</th><th>Team_Name</th><th>Goals_Scored</th><th>Assists_Made</th></tr></thead><tbody><tr><td>TEAM_4822-PLAYER_9813</td><td>2023-09-08</td><td>{\"player_name\": \"Player_1\", \"stats\": {\"goals\": 4, \"assists\": 15, \"position\": \"Forward\", \"team\": {\"name\": \"Team_11\", \"stadium\": \"Stadium_2\"}}, \"is_captain\": true}</td><td>['Match_1', 'Match_2', 'Match_3', [8, 8, 6]]</td><td>false</td><td>Defender</td><td>Team_3</td><td>20</td><td>17</td></tr></tbody></table></div>"
      ]
     },
     "metadata": {
      "application/vnd.databricks.v1+output": {
       "addedWidgets": {},
       "aggData": [],
       "aggError": "",
       "aggOverflow": false,
       "aggSchema": [],
       "aggSeriesLimitReached": false,
       "aggType": "",
       "arguments": {},
       "columnCustomDisplayInfos": {},
       "data": [
        [
         "TEAM_4822-PLAYER_9813",
         "2023-09-08",
         "{\"player_name\": \"Player_1\", \"stats\": {\"goals\": 4, \"assists\": 15, \"position\": \"Forward\", \"team\": {\"name\": \"Team_11\", \"stadium\": \"Stadium_2\"}}, \"is_captain\": true}",
         "['Match_1', 'Match_2', 'Match_3', [8, 8, 6]]",
         false,
         "Defender",
         "Team_3",
         20,
         17
        ]
       ],
       "datasetInfos": [],
       "dbfsResultPath": null,
       "isJsonSchema": true,
       "metadata": {},
       "overflow": false,
       "plotOptions": {
        "customPlotOptions": {},
        "displayType": "table",
        "pivotAggregation": null,
        "pivotColumns": null,
        "xColumns": null,
        "yColumns": null
       },
       "removedWidgets": [],
       "schema": [
        {
         "metadata": "{}",
         "name": "Unique_ID",
         "type": "\"string\""
        },
        {
         "metadata": "{\"__detected_date_formats\":\"yyyy-M-d\"}",
         "name": "Date",
         "type": "\"date\""
        },
        {
         "metadata": "{}",
         "name": "JSON_Data",
         "type": "\"string\""
        },
        {
         "metadata": "{}",
         "name": "Match_Performance",
         "type": "\"string\""
        },
        {
         "metadata": "{}",
         "name": "Injury_Status",
         "type": "\"boolean\""
        },
        {
         "metadata": "{}",
         "name": "Player_Position",
         "type": "\"string\""
        },
        {
         "metadata": "{}",
         "name": "Team_Name",
         "type": "\"string\""
        },
        {
         "metadata": "{}",
         "name": "Goals_Scored",
         "type": "\"integer\""
        },
        {
         "metadata": "{}",
         "name": "Assists_Made",
         "type": "\"integer\""
        }
       ],
       "type": "table"
      }
     },
     "output_type": "display_data"
    }
   ],
   "source": [
    "display(df.where(\"JSON_DATA:player_name = 'Player_1'\").select(\"*\"))"
   ]
  },
  {
   "cell_type": "markdown",
   "metadata": {
    "application/vnd.databricks.v1+cell": {
     "cellMetadata": {},
     "inputWidgets": {},
     "nuid": "2d6bbd1c-75e7-43ca-99a1-d2c82b9e53f8",
     "showTitle": false,
     "title": ""
    }
   },
   "source": [
    "**Now use the JSON string example above to derive the schema, then parse the entire JSON column into struct types**\n",
    "- schema_of_json() returns the schema derived from an example JSON string.\n",
    "- from_json() parses a column containing a JSON string into a struct type using the specified schema.\n"
   ]
  },
  {
   "cell_type": "code",
   "execution_count": 0,
   "metadata": {
    "application/vnd.databricks.v1+cell": {
     "cellMetadata": {
      "byteLimit": 2048000,
      "implicitDf": true,
      "rowLimit": 10000
     },
     "inputWidgets": {},
     "nuid": "b96c6166-17c3-443d-b935-629fb7b59f4c",
     "showTitle": false,
     "title": ""
    }
   },
   "outputs": [
    {
     "output_type": "display_data",
     "data": {
      "text/html": [
       "<style scoped>\n",
       "  .table-result-container {\n",
       "    max-height: 300px;\n",
       "    overflow: auto;\n",
       "  }\n",
       "  table, th, td {\n",
       "    border: 1px solid black;\n",
       "    border-collapse: collapse;\n",
       "  }\n",
       "  th, td {\n",
       "    padding: 5px;\n",
       "  }\n",
       "  th {\n",
       "    text-align: left;\n",
       "  }\n",
       "</style><div class='table-result-container'><table class='table-result'><thead style='background-color: white'><tr><th>schema</th></tr></thead><tbody><tr><td>STRUCT<is_captain: BOOLEAN, player_name: STRING, stats: STRUCT<assists: BIGINT, goals: BIGINT, position: STRING, team: STRUCT<name: STRING, stadium: STRING>>></td></tr></tbody></table></div>"
      ]
     },
     "metadata": {
      "application/vnd.databricks.v1+output": {
       "addedWidgets": {},
       "aggData": [],
       "aggError": "",
       "aggOverflow": false,
       "aggSchema": [],
       "aggSeriesLimitReached": false,
       "aggType": "",
       "arguments": {},
       "columnCustomDisplayInfos": {},
       "data": [
        [
         "STRUCT<is_captain: BOOLEAN, player_name: STRING, stats: STRUCT<assists: BIGINT, goals: BIGINT, position: STRING, team: STRUCT<name: STRING, stadium: STRING>>>"
        ]
       ],
       "datasetInfos": [],
       "dbfsResultPath": null,
       "isJsonSchema": true,
       "metadata": {
        "dataframeName": "_sqldf",
        "executionCount": 34
       },
       "overflow": false,
       "plotOptions": {
        "customPlotOptions": {},
        "displayType": "table",
        "pivotAggregation": null,
        "pivotColumns": null,
        "xColumns": null,
        "yColumns": null
       },
       "removedWidgets": [],
       "schema": [
        {
         "metadata": "{}",
         "name": "schema",
         "type": "\"string\""
        }
       ],
       "type": "table"
      }
     },
     "output_type": "display_data"
    }
   ],
   "source": [
    "%sql\n",
    "Select schema_of_json('{\"player_name\": \"Player_1\", \"stats\": {\"goals\": 4, \"assists\": 15, \"position\": \"Forward\", \"team\": {\"name\": \"Team_11\", \"stadium\": \"Stadium_2\"}}, \"is_captain\": true}') as schema;"
   ]
  },
  {
   "cell_type": "code",
   "execution_count": 0,
   "metadata": {
    "application/vnd.databricks.v1+cell": {
     "cellMetadata": {
      "byteLimit": 2048000,
      "implicitDf": true,
      "rowLimit": 10000
     },
     "inputWidgets": {},
     "nuid": "2540f536-d89a-4ce6-9b69-162801693d56",
     "showTitle": false,
     "title": ""
    }
   },
   "outputs": [
    {
     "output_type": "display_data",
     "data": {
      "text/html": [
       "<style scoped>\n",
       "  .table-result-container {\n",
       "    max-height: 300px;\n",
       "    overflow: auto;\n",
       "  }\n",
       "  table, th, td {\n",
       "    border: 1px solid black;\n",
       "    border-collapse: collapse;\n",
       "  }\n",
       "  th, td {\n",
       "    padding: 5px;\n",
       "  }\n",
       "  th {\n",
       "    text-align: left;\n",
       "  }\n",
       "</style><div class='table-result-container'><table class='table-result'><thead style='background-color: white'><tr><th>is_captain</th><th>player_name</th><th>stats</th></tr></thead><tbody><tr><td>true</td><td>Player_1</td><td>List(15, 4, Forward, List(Team_11, Stadium_2))</td></tr><tr><td>false</td><td>Player_2</td><td>List(19, 14, Midfielder, List(Team_16, Stadium_13))</td></tr><tr><td>false</td><td>Player_3</td><td>List(11, 7, Defender, List(Team_14, Stadium_5))</td></tr><tr><td>false</td><td>Player_4</td><td>List(20, 9, Forward, List(Team_12, Stadium_1))</td></tr><tr><td>false</td><td>Player_5</td><td>List(4, 11, Forward, List(Team_11, Stadium_12))</td></tr><tr><td>true</td><td>Player_6</td><td>List(10, 19, Forward, List(Team_1, Stadium_5))</td></tr><tr><td>true</td><td>Player_7</td><td>List(13, 17, Midfielder, List(Team_4, Stadium_19))</td></tr><tr><td>true</td><td>Player_8</td><td>List(16, 30, Forward, List(Team_16, Stadium_18))</td></tr><tr><td>true</td><td>Player_9</td><td>List(9, 0, Goalkeeper, List(Team_8, Stadium_11))</td></tr><tr><td>false</td><td>Player_10</td><td>List(16, 21, Midfielder, List(Team_1, Stadium_1))</td></tr><tr><td>true</td><td>Player_11</td><td>List(14, 16, Midfielder, List(Team_13, Stadium_7))</td></tr><tr><td>true</td><td>Player_12</td><td>List(7, 21, Goalkeeper, List(Team_3, Stadium_17))</td></tr><tr><td>false</td><td>Player_13</td><td>List(15, 7, Defender, List(Team_3, Stadium_1))</td></tr><tr><td>false</td><td>Player_14</td><td>List(8, 3, Forward, List(Team_12, Stadium_2))</td></tr><tr><td>true</td><td>Player_15</td><td>List(12, 5, Midfielder, List(Team_20, Stadium_3))</td></tr><tr><td>false</td><td>Player_16</td><td>List(17, 30, Goalkeeper, List(Team_10, Stadium_5))</td></tr><tr><td>false</td><td>Player_17</td><td>List(19, 21, Forward, List(Team_2, Stadium_16))</td></tr><tr><td>false</td><td>Player_18</td><td>List(2, 17, Defender, List(Team_2, Stadium_4))</td></tr><tr><td>false</td><td>Player_19</td><td>List(10, 18, Goalkeeper, List(Team_8, Stadium_4))</td></tr><tr><td>false</td><td>Player_20</td><td>List(11, 1, Forward, List(Team_2, Stadium_10))</td></tr></tbody></table></div>"
      ]
     },
     "metadata": {
      "application/vnd.databricks.v1+output": {
       "addedWidgets": {},
       "aggData": [],
       "aggError": "",
       "aggOverflow": false,
       "aggSchema": [],
       "aggSeriesLimitReached": false,
       "aggType": "",
       "arguments": {},
       "columnCustomDisplayInfos": {},
       "data": [
        [
         true,
         "Player_1",
         [
          15,
          4,
          "Forward",
          [
           "Team_11",
           "Stadium_2"
          ]
         ]
        ],
        [
         false,
         "Player_2",
         [
          19,
          14,
          "Midfielder",
          [
           "Team_16",
           "Stadium_13"
          ]
         ]
        ],
        [
         false,
         "Player_3",
         [
          11,
          7,
          "Defender",
          [
           "Team_14",
           "Stadium_5"
          ]
         ]
        ],
        [
         false,
         "Player_4",
         [
          20,
          9,
          "Forward",
          [
           "Team_12",
           "Stadium_1"
          ]
         ]
        ],
        [
         false,
         "Player_5",
         [
          4,
          11,
          "Forward",
          [
           "Team_11",
           "Stadium_12"
          ]
         ]
        ],
        [
         true,
         "Player_6",
         [
          10,
          19,
          "Forward",
          [
           "Team_1",
           "Stadium_5"
          ]
         ]
        ],
        [
         true,
         "Player_7",
         [
          13,
          17,
          "Midfielder",
          [
           "Team_4",
           "Stadium_19"
          ]
         ]
        ],
        [
         true,
         "Player_8",
         [
          16,
          30,
          "Forward",
          [
           "Team_16",
           "Stadium_18"
          ]
         ]
        ],
        [
         true,
         "Player_9",
         [
          9,
          0,
          "Goalkeeper",
          [
           "Team_8",
           "Stadium_11"
          ]
         ]
        ],
        [
         false,
         "Player_10",
         [
          16,
          21,
          "Midfielder",
          [
           "Team_1",
           "Stadium_1"
          ]
         ]
        ],
        [
         true,
         "Player_11",
         [
          14,
          16,
          "Midfielder",
          [
           "Team_13",
           "Stadium_7"
          ]
         ]
        ],
        [
         true,
         "Player_12",
         [
          7,
          21,
          "Goalkeeper",
          [
           "Team_3",
           "Stadium_17"
          ]
         ]
        ],
        [
         false,
         "Player_13",
         [
          15,
          7,
          "Defender",
          [
           "Team_3",
           "Stadium_1"
          ]
         ]
        ],
        [
         false,
         "Player_14",
         [
          8,
          3,
          "Forward",
          [
           "Team_12",
           "Stadium_2"
          ]
         ]
        ],
        [
         true,
         "Player_15",
         [
          12,
          5,
          "Midfielder",
          [
           "Team_20",
           "Stadium_3"
          ]
         ]
        ],
        [
         false,
         "Player_16",
         [
          17,
          30,
          "Goalkeeper",
          [
           "Team_10",
           "Stadium_5"
          ]
         ]
        ],
        [
         false,
         "Player_17",
         [
          19,
          21,
          "Forward",
          [
           "Team_2",
           "Stadium_16"
          ]
         ]
        ],
        [
         false,
         "Player_18",
         [
          2,
          17,
          "Defender",
          [
           "Team_2",
           "Stadium_4"
          ]
         ]
        ],
        [
         false,
         "Player_19",
         [
          10,
          18,
          "Goalkeeper",
          [
           "Team_8",
           "Stadium_4"
          ]
         ]
        ],
        [
         false,
         "Player_20",
         [
          11,
          1,
          "Forward",
          [
           "Team_2",
           "Stadium_10"
          ]
         ]
        ]
       ],
       "datasetInfos": [],
       "dbfsResultPath": null,
       "isJsonSchema": true,
       "metadata": {
        "dataframeName": "_sqldf",
        "executionCount": 35
       },
       "overflow": false,
       "plotOptions": {
        "customPlotOptions": {},
        "displayType": "table",
        "pivotAggregation": null,
        "pivotColumns": null,
        "xColumns": null,
        "yColumns": null
       },
       "removedWidgets": [],
       "schema": [
        {
         "metadata": "{}",
         "name": "is_captain",
         "type": "\"boolean\""
        },
        {
         "metadata": "{}",
         "name": "player_name",
         "type": "\"string\""
        },
        {
         "metadata": "{}",
         "name": "stats",
         "type": "{\"type\":\"struct\",\"fields\":[{\"name\":\"assists\",\"type\":\"long\",\"nullable\":true,\"metadata\":{}},{\"name\":\"goals\",\"type\":\"long\",\"nullable\":true,\"metadata\":{}},{\"name\":\"position\",\"type\":\"string\",\"nullable\":true,\"metadata\":{}},{\"name\":\"team\",\"type\":{\"type\":\"struct\",\"fields\":[{\"name\":\"name\",\"type\":\"string\",\"nullable\":true,\"metadata\":{}},{\"name\":\"stadium\",\"type\":\"string\",\"nullable\":true,\"metadata\":{}}]},\"nullable\":true,\"metadata\":{}}]}"
        }
       ],
       "type": "table"
      }
     },
     "output_type": "display_data"
    }
   ],
   "source": [
    "%sql\n",
    "CREATE OR REPLACE TEMP VIEW parsed_football AS SELECT json.* FROM (\n",
    "SELECT from_json(JSON_DATA, 'STRUCT<is_captain: BOOLEAN, player_name: STRING, stats: STRUCT<assists: BIGINT, goals: BIGINT, position: STRING, team: STRUCT<name: STRING, stadium: STRING>>>') AS json \n",
    "FROM football);\n",
    "\n",
    "SELECT * FROM parsed_football;"
   ]
  },
  {
   "cell_type": "code",
   "execution_count": 0,
   "metadata": {
    "application/vnd.databricks.v1+cell": {
     "cellMetadata": {
      "byteLimit": 2048000,
      "rowLimit": 10000
     },
     "inputWidgets": {},
     "nuid": "13c2ed52-8100-4630-a85a-99afc0bbe474",
     "showTitle": false,
     "title": ""
    }
   },
   "outputs": [
    {
     "output_type": "display_data",
     "data": {
      "text/html": [
       "<style scoped>\n",
       "  .table-result-container {\n",
       "    max-height: 300px;\n",
       "    overflow: auto;\n",
       "  }\n",
       "  table, th, td {\n",
       "    border: 1px solid black;\n",
       "    border-collapse: collapse;\n",
       "  }\n",
       "  th, td {\n",
       "    padding: 5px;\n",
       "  }\n",
       "  th {\n",
       "    text-align: left;\n",
       "  }\n",
       "</style><div class='table-result-container'><table class='table-result'><thead style='background-color: white'><tr><th>is_captain</th><th>player_name</th><th>stats</th></tr></thead><tbody><tr><td>true</td><td>Player_1</td><td>List(15, 4, Forward, List(Team_11, Stadium_2))</td></tr><tr><td>false</td><td>Player_2</td><td>List(19, 14, Midfielder, List(Team_16, Stadium_13))</td></tr><tr><td>false</td><td>Player_3</td><td>List(11, 7, Defender, List(Team_14, Stadium_5))</td></tr><tr><td>false</td><td>Player_4</td><td>List(20, 9, Forward, List(Team_12, Stadium_1))</td></tr><tr><td>false</td><td>Player_5</td><td>List(4, 11, Forward, List(Team_11, Stadium_12))</td></tr><tr><td>true</td><td>Player_6</td><td>List(10, 19, Forward, List(Team_1, Stadium_5))</td></tr><tr><td>true</td><td>Player_7</td><td>List(13, 17, Midfielder, List(Team_4, Stadium_19))</td></tr><tr><td>true</td><td>Player_8</td><td>List(16, 30, Forward, List(Team_16, Stadium_18))</td></tr><tr><td>true</td><td>Player_9</td><td>List(9, 0, Goalkeeper, List(Team_8, Stadium_11))</td></tr><tr><td>false</td><td>Player_10</td><td>List(16, 21, Midfielder, List(Team_1, Stadium_1))</td></tr><tr><td>true</td><td>Player_11</td><td>List(14, 16, Midfielder, List(Team_13, Stadium_7))</td></tr><tr><td>true</td><td>Player_12</td><td>List(7, 21, Goalkeeper, List(Team_3, Stadium_17))</td></tr><tr><td>false</td><td>Player_13</td><td>List(15, 7, Defender, List(Team_3, Stadium_1))</td></tr><tr><td>false</td><td>Player_14</td><td>List(8, 3, Forward, List(Team_12, Stadium_2))</td></tr><tr><td>true</td><td>Player_15</td><td>List(12, 5, Midfielder, List(Team_20, Stadium_3))</td></tr><tr><td>false</td><td>Player_16</td><td>List(17, 30, Goalkeeper, List(Team_10, Stadium_5))</td></tr><tr><td>false</td><td>Player_17</td><td>List(19, 21, Forward, List(Team_2, Stadium_16))</td></tr><tr><td>false</td><td>Player_18</td><td>List(2, 17, Defender, List(Team_2, Stadium_4))</td></tr><tr><td>false</td><td>Player_19</td><td>List(10, 18, Goalkeeper, List(Team_8, Stadium_4))</td></tr><tr><td>false</td><td>Player_20</td><td>List(11, 1, Forward, List(Team_2, Stadium_10))</td></tr></tbody></table></div>"
      ]
     },
     "metadata": {
      "application/vnd.databricks.v1+output": {
       "addedWidgets": {},
       "aggData": [],
       "aggError": "",
       "aggOverflow": false,
       "aggSchema": [],
       "aggSeriesLimitReached": false,
       "aggType": "",
       "arguments": {},
       "columnCustomDisplayInfos": {},
       "data": [
        [
         true,
         "Player_1",
         [
          15,
          4,
          "Forward",
          [
           "Team_11",
           "Stadium_2"
          ]
         ]
        ],
        [
         false,
         "Player_2",
         [
          19,
          14,
          "Midfielder",
          [
           "Team_16",
           "Stadium_13"
          ]
         ]
        ],
        [
         false,
         "Player_3",
         [
          11,
          7,
          "Defender",
          [
           "Team_14",
           "Stadium_5"
          ]
         ]
        ],
        [
         false,
         "Player_4",
         [
          20,
          9,
          "Forward",
          [
           "Team_12",
           "Stadium_1"
          ]
         ]
        ],
        [
         false,
         "Player_5",
         [
          4,
          11,
          "Forward",
          [
           "Team_11",
           "Stadium_12"
          ]
         ]
        ],
        [
         true,
         "Player_6",
         [
          10,
          19,
          "Forward",
          [
           "Team_1",
           "Stadium_5"
          ]
         ]
        ],
        [
         true,
         "Player_7",
         [
          13,
          17,
          "Midfielder",
          [
           "Team_4",
           "Stadium_19"
          ]
         ]
        ],
        [
         true,
         "Player_8",
         [
          16,
          30,
          "Forward",
          [
           "Team_16",
           "Stadium_18"
          ]
         ]
        ],
        [
         true,
         "Player_9",
         [
          9,
          0,
          "Goalkeeper",
          [
           "Team_8",
           "Stadium_11"
          ]
         ]
        ],
        [
         false,
         "Player_10",
         [
          16,
          21,
          "Midfielder",
          [
           "Team_1",
           "Stadium_1"
          ]
         ]
        ],
        [
         true,
         "Player_11",
         [
          14,
          16,
          "Midfielder",
          [
           "Team_13",
           "Stadium_7"
          ]
         ]
        ],
        [
         true,
         "Player_12",
         [
          7,
          21,
          "Goalkeeper",
          [
           "Team_3",
           "Stadium_17"
          ]
         ]
        ],
        [
         false,
         "Player_13",
         [
          15,
          7,
          "Defender",
          [
           "Team_3",
           "Stadium_1"
          ]
         ]
        ],
        [
         false,
         "Player_14",
         [
          8,
          3,
          "Forward",
          [
           "Team_12",
           "Stadium_2"
          ]
         ]
        ],
        [
         true,
         "Player_15",
         [
          12,
          5,
          "Midfielder",
          [
           "Team_20",
           "Stadium_3"
          ]
         ]
        ],
        [
         false,
         "Player_16",
         [
          17,
          30,
          "Goalkeeper",
          [
           "Team_10",
           "Stadium_5"
          ]
         ]
        ],
        [
         false,
         "Player_17",
         [
          19,
          21,
          "Forward",
          [
           "Team_2",
           "Stadium_16"
          ]
         ]
        ],
        [
         false,
         "Player_18",
         [
          2,
          17,
          "Defender",
          [
           "Team_2",
           "Stadium_4"
          ]
         ]
        ],
        [
         false,
         "Player_19",
         [
          10,
          18,
          "Goalkeeper",
          [
           "Team_8",
           "Stadium_4"
          ]
         ]
        ],
        [
         false,
         "Player_20",
         [
          11,
          1,
          "Forward",
          [
           "Team_2",
           "Stadium_10"
          ]
         ]
        ]
       ],
       "datasetInfos": [],
       "dbfsResultPath": null,
       "isJsonSchema": true,
       "metadata": {},
       "overflow": false,
       "plotOptions": {
        "customPlotOptions": {},
        "displayType": "table",
        "pivotAggregation": null,
        "pivotColumns": null,
        "xColumns": null,
        "yColumns": null
       },
       "removedWidgets": [],
       "schema": [
        {
         "metadata": "{}",
         "name": "is_captain",
         "type": "\"boolean\""
        },
        {
         "metadata": "{}",
         "name": "player_name",
         "type": "\"string\""
        },
        {
         "metadata": "{}",
         "name": "stats",
         "type": "{\"type\":\"struct\",\"fields\":[{\"name\":\"assists\",\"type\":\"long\",\"nullable\":true,\"metadata\":{}},{\"name\":\"goals\",\"type\":\"long\",\"nullable\":true,\"metadata\":{}},{\"name\":\"position\",\"type\":\"string\",\"nullable\":true,\"metadata\":{}},{\"name\":\"team\",\"type\":{\"type\":\"struct\",\"fields\":[{\"name\":\"name\",\"type\":\"string\",\"nullable\":true,\"metadata\":{}},{\"name\":\"stadium\",\"type\":\"string\",\"nullable\":true,\"metadata\":{}}]},\"nullable\":true,\"metadata\":{}}]}"
        }
       ],
       "type": "table"
      }
     },
     "output_type": "display_data"
    }
   ],
   "source": [
    "from pyspark.sql.functions import from_json, schema_of_json\n",
    "json_string = '''{\"player_name\": \"Player_1\", \"stats\": {\"goals\": 4, \"assists\": 15, \"position\": \"Forward\", \"team\": {\"name\": \"Team_11\", \"stadium\": \"Stadium_2\"}}, \"is_captain\": true}'''\n",
    "parsed_df = (df.select(from_json(\"JSON_Data\", schema_of_json(json_string)).alias(\"json\")).select(\"json.*\"))\n",
    "display(parsed_df)"
   ]
  },
  {
   "cell_type": "markdown",
   "metadata": {
    "application/vnd.databricks.v1+cell": {
     "cellMetadata": {},
     "inputWidgets": {},
     "nuid": "e929097e-d052-4d10-81bc-567627c937c2",
     "showTitle": false,
     "title": ""
    }
   },
   "source": [
    "**To Manipulate Arrays**"
   ]
  },
  {
   "cell_type": "code",
   "execution_count": 0,
   "metadata": {
    "application/vnd.databricks.v1+cell": {
     "cellMetadata": {
      "byteLimit": 2048000,
      "implicitDf": true,
      "rowLimit": 10000
     },
     "inputWidgets": {},
     "nuid": "038dff49-aa34-4da9-b5a3-5aed8cf9345e",
     "showTitle": false,
     "title": ""
    }
   },
   "outputs": [
    {
     "output_type": "display_data",
     "data": {
      "text/html": [
       "<style scoped>\n",
       "  .table-result-container {\n",
       "    max-height: 300px;\n",
       "    overflow: auto;\n",
       "  }\n",
       "  table, th, td {\n",
       "    border: 1px solid black;\n",
       "    border-collapse: collapse;\n",
       "  }\n",
       "  th, td {\n",
       "    padding: 5px;\n",
       "  }\n",
       "  th {\n",
       "    text-align: left;\n",
       "  }\n",
       "</style><div class='table-result-container'><table class='table-result'><thead style='background-color: white'><tr><th>Unique_ID</th><th>items</th></tr></thead><tbody><tr><td>TEAM_4822-PLAYER_9813</td><td>List(['Match_1', 'Match_2', 'Match_3', [8, 8, 6]])</td></tr><tr><td>TEAM_6212-PLAYER_3438</td><td>List(['Match_1', 'Match_2', 'Match_3', [6, 10, 6]])</td></tr><tr><td>TEAM_9590-PLAYER_3504</td><td>List(['Match_1', 'Match_2', 'Match_3', [7, 8, 6]])</td></tr><tr><td>TEAM_4059-PLAYER_5756</td><td>List(['Match_1', 'Match_2', 'Match_3', [10, 6, 10]])</td></tr><tr><td>TEAM_7904-PLAYER_8293</td><td>List(['Match_1', 'Match_2', 'Match_3', [9, 10, 7]])</td></tr><tr><td>TEAM_9860-PLAYER_9831</td><td>List(['Match_1', 'Match_2', 'Match_3', [5, 8, 8]])</td></tr><tr><td>TEAM_9147-PLAYER_4698</td><td>List(['Match_1', 'Match_2', 'Match_3', [5, 6, 8]])</td></tr><tr><td>TEAM_5813-PLAYER_1667</td><td>List(['Match_1', 'Match_2', 'Match_3', [9, 10, 5]])</td></tr><tr><td>TEAM_1981-PLAYER_3530</td><td>List(['Match_1', 'Match_2', 'Match_3', [10, 5, 9]])</td></tr><tr><td>TEAM_7677-PLAYER_2064</td><td>List(['Match_1', 'Match_2', 'Match_3', [10, 9, 5]])</td></tr><tr><td>TEAM_5046-PLAYER_9066</td><td>List(['Match_1', 'Match_2', 'Match_3', [9, 5, 6]])</td></tr><tr><td>TEAM_9115-PLAYER_5655</td><td>List(['Match_1', 'Match_2', 'Match_3', [6, 9, 7]])</td></tr><tr><td>TEAM_2008-PLAYER_4865</td><td>List(['Match_1', 'Match_2', 'Match_3', [10, 5, 6]])</td></tr><tr><td>TEAM_2153-PLAYER_2429</td><td>List(['Match_1', 'Match_2', 'Match_3', [10, 9, 7]])</td></tr><tr><td>TEAM_6246-PLAYER_9328</td><td>List(['Match_1', 'Match_2', 'Match_3', [9, 5, 7]])</td></tr><tr><td>TEAM_2573-PLAYER_7743</td><td>List(['Match_1', 'Match_2', 'Match_3', [5, 5, 6]])</td></tr><tr><td>TEAM_9376-PLAYER_7020</td><td>List(['Match_1', 'Match_2', 'Match_3', [9, 6, 10]])</td></tr><tr><td>TEAM_5483-PLAYER_5709</td><td>List(['Match_1', 'Match_2', 'Match_3', [8, 10, 8]])</td></tr><tr><td>TEAM_7903-PLAYER_8959</td><td>List(['Match_1', 'Match_2', 'Match_3', [6, 5, 10]])</td></tr><tr><td>TEAM_9814-PLAYER_3818</td><td>List(['Match_1', 'Match_2', 'Match_3', [8, 5, 8]])</td></tr></tbody></table></div>"
      ]
     },
     "metadata": {
      "application/vnd.databricks.v1+output": {
       "addedWidgets": {},
       "aggData": [],
       "aggError": "",
       "aggOverflow": false,
       "aggSchema": [],
       "aggSeriesLimitReached": false,
       "aggType": "",
       "arguments": {},
       "columnCustomDisplayInfos": {},
       "data": [
        [
         "TEAM_4822-PLAYER_9813",
         [
          "['Match_1', 'Match_2', 'Match_3', [8, 8, 6]]"
         ]
        ],
        [
         "TEAM_6212-PLAYER_3438",
         [
          "['Match_1', 'Match_2', 'Match_3', [6, 10, 6]]"
         ]
        ],
        [
         "TEAM_9590-PLAYER_3504",
         [
          "['Match_1', 'Match_2', 'Match_3', [7, 8, 6]]"
         ]
        ],
        [
         "TEAM_4059-PLAYER_5756",
         [
          "['Match_1', 'Match_2', 'Match_3', [10, 6, 10]]"
         ]
        ],
        [
         "TEAM_7904-PLAYER_8293",
         [
          "['Match_1', 'Match_2', 'Match_3', [9, 10, 7]]"
         ]
        ],
        [
         "TEAM_9860-PLAYER_9831",
         [
          "['Match_1', 'Match_2', 'Match_3', [5, 8, 8]]"
         ]
        ],
        [
         "TEAM_9147-PLAYER_4698",
         [
          "['Match_1', 'Match_2', 'Match_3', [5, 6, 8]]"
         ]
        ],
        [
         "TEAM_5813-PLAYER_1667",
         [
          "['Match_1', 'Match_2', 'Match_3', [9, 10, 5]]"
         ]
        ],
        [
         "TEAM_1981-PLAYER_3530",
         [
          "['Match_1', 'Match_2', 'Match_3', [10, 5, 9]]"
         ]
        ],
        [
         "TEAM_7677-PLAYER_2064",
         [
          "['Match_1', 'Match_2', 'Match_3', [10, 9, 5]]"
         ]
        ],
        [
         "TEAM_5046-PLAYER_9066",
         [
          "['Match_1', 'Match_2', 'Match_3', [9, 5, 6]]"
         ]
        ],
        [
         "TEAM_9115-PLAYER_5655",
         [
          "['Match_1', 'Match_2', 'Match_3', [6, 9, 7]]"
         ]
        ],
        [
         "TEAM_2008-PLAYER_4865",
         [
          "['Match_1', 'Match_2', 'Match_3', [10, 5, 6]]"
         ]
        ],
        [
         "TEAM_2153-PLAYER_2429",
         [
          "['Match_1', 'Match_2', 'Match_3', [10, 9, 7]]"
         ]
        ],
        [
         "TEAM_6246-PLAYER_9328",
         [
          "['Match_1', 'Match_2', 'Match_3', [9, 5, 7]]"
         ]
        ],
        [
         "TEAM_2573-PLAYER_7743",
         [
          "['Match_1', 'Match_2', 'Match_3', [5, 5, 6]]"
         ]
        ],
        [
         "TEAM_9376-PLAYER_7020",
         [
          "['Match_1', 'Match_2', 'Match_3', [9, 6, 10]]"
         ]
        ],
        [
         "TEAM_5483-PLAYER_5709",
         [
          "['Match_1', 'Match_2', 'Match_3', [8, 10, 8]]"
         ]
        ],
        [
         "TEAM_7903-PLAYER_8959",
         [
          "['Match_1', 'Match_2', 'Match_3', [6, 5, 10]]"
         ]
        ],
        [
         "TEAM_9814-PLAYER_3818",
         [
          "['Match_1', 'Match_2', 'Match_3', [8, 5, 8]]"
         ]
        ]
       ],
       "datasetInfos": [],
       "dbfsResultPath": null,
       "isJsonSchema": true,
       "metadata": {
        "dataframeName": "_sqldf",
        "executionCount": 45
       },
       "overflow": false,
       "plotOptions": {
        "customPlotOptions": {},
        "displayType": "table",
        "pivotAggregation": null,
        "pivotColumns": null,
        "xColumns": null,
        "yColumns": null
       },
       "removedWidgets": [],
       "schema": [
        {
         "metadata": "{}",
         "name": "Unique_ID",
         "type": "\"string\""
        },
        {
         "metadata": "{}",
         "name": "items",
         "type": "{\"type\":\"array\",\"elementType\":\"string\",\"containsNull\":true}"
        }
       ],
       "type": "table"
      }
     },
     "output_type": "display_data"
    }
   ],
   "source": [
    "%sql\n",
    "SELECT Unique_ID, ARRAY(Match_Performance) AS items FROM football;"
   ]
  },
  {
   "cell_type": "markdown",
   "metadata": {
    "application/vnd.databricks.v1+cell": {
     "cellMetadata": {},
     "inputWidgets": {},
     "nuid": "71cf7d05-c1d8-48dd-84cb-74e40ac27aea",
     "showTitle": false,
     "title": ""
    }
   },
   "source": [
    "**UDF Functions**"
   ]
  },
  {
   "cell_type": "code",
   "execution_count": 0,
   "metadata": {
    "application/vnd.databricks.v1+cell": {
     "cellMetadata": {
      "byteLimit": 2048000,
      "rowLimit": 10000
     },
     "inputWidgets": {},
     "nuid": "1f9e0308-c122-4a25-a859-8f5646641dfc",
     "showTitle": false,
     "title": ""
    }
   },
   "outputs": [
    {
     "output_type": "stream",
     "name": "stdout",
     "output_type": "stream",
     "text": [
      "+-----------+\n|player_name|\n+-----------+\n|   Player_1|\n|   Player_2|\n+-----------+\nonly showing top 2 rows\n\n"
     ]
    }
   ],
   "source": [
    "import json\n",
    "def get_player_name(json_data):\n",
    "    return json.loads(json_data)[\"player_name\"]\n",
    "  \n",
    "udf_f = udf(get_player_name)\n",
    "df.select(udf_f(\"JSON_Data\").alias(\"player_name\")).show(2)"
   ]
  },
  {
   "cell_type": "code",
   "execution_count": 0,
   "metadata": {
    "application/vnd.databricks.v1+cell": {
     "cellMetadata": {
      "byteLimit": 2048000,
      "rowLimit": 10000
     },
     "inputWidgets": {},
     "nuid": "cb5b7e70-4e83-4a47-8c11-3a29975668f6",
     "showTitle": false,
     "title": ""
    }
   },
   "outputs": [],
   "source": [
    "udff = spark.udf.register(\"usd_sql\",get_player_name)"
   ]
  },
  {
   "cell_type": "code",
   "execution_count": 0,
   "metadata": {
    "application/vnd.databricks.v1+cell": {
     "cellMetadata": {
      "byteLimit": 2048000,
      "implicitDf": true,
      "rowLimit": 10000
     },
     "inputWidgets": {},
     "nuid": "31a6c033-c7d6-4173-9421-dc254d371d38",
     "showTitle": false,
     "title": ""
    }
   },
   "outputs": [
    {
     "output_type": "display_data",
     "data": {
      "text/html": [
       "<style scoped>\n",
       "  .table-result-container {\n",
       "    max-height: 300px;\n",
       "    overflow: auto;\n",
       "  }\n",
       "  table, th, td {\n",
       "    border: 1px solid black;\n",
       "    border-collapse: collapse;\n",
       "  }\n",
       "  th, td {\n",
       "    padding: 5px;\n",
       "  }\n",
       "  th {\n",
       "    text-align: left;\n",
       "  }\n",
       "</style><div class='table-result-container'><table class='table-result'><thead style='background-color: white'><tr><th>usd_sql(json_data)</th></tr></thead><tbody><tr><td>Player_1</td></tr><tr><td>Player_2</td></tr></tbody></table></div>"
      ]
     },
     "metadata": {
      "application/vnd.databricks.v1+output": {
       "addedWidgets": {},
       "aggData": [],
       "aggError": "",
       "aggOverflow": false,
       "aggSchema": [],
       "aggSeriesLimitReached": false,
       "aggType": "",
       "arguments": {},
       "columnCustomDisplayInfos": {},
       "data": [
        [
         "Player_1"
        ],
        [
         "Player_2"
        ]
       ],
       "datasetInfos": [],
       "dbfsResultPath": null,
       "isJsonSchema": true,
       "metadata": {
        "dataframeName": "_sqldf",
        "executionCount": 16
       },
       "overflow": false,
       "plotOptions": {
        "customPlotOptions": {},
        "displayType": "table",
        "pivotAggregation": null,
        "pivotColumns": null,
        "xColumns": null,
        "yColumns": null
       },
       "removedWidgets": [],
       "schema": [
        {
         "metadata": "{\"__autoGeneratedAlias\":\"true\"}",
         "name": "usd_sql(json_data)",
         "type": "\"string\""
        }
       ],
       "type": "table"
      }
     },
     "output_type": "display_data"
    }
   ],
   "source": [
    "%sql\n",
    "SELECT usd_sql(json_data) from football limit 2;"
   ]
  },
  {
   "cell_type": "markdown",
   "metadata": {
    "application/vnd.databricks.v1+cell": {
     "cellMetadata": {},
     "inputWidgets": {},
     "nuid": "72fc8aaa-9205-4d94-90cc-796013b8bb5b",
     "showTitle": false,
     "title": ""
    }
   },
   "source": [
    "**Data Format**"
   ]
  },
  {
   "cell_type": "code",
   "execution_count": 0,
   "metadata": {
    "application/vnd.databricks.v1+cell": {
     "cellMetadata": {
      "byteLimit": 2048000,
      "rowLimit": 10000
     },
     "inputWidgets": {},
     "nuid": "801aa80a-7dc9-4770-9ccb-d712e03004b5",
     "showTitle": false,
     "title": ""
    }
   },
   "outputs": [
    {
     "output_type": "display_data",
     "data": {
      "text/html": [
       "<style scoped>\n",
       "  .table-result-container {\n",
       "    max-height: 300px;\n",
       "    overflow: auto;\n",
       "  }\n",
       "  table, th, td {\n",
       "    border: 1px solid black;\n",
       "    border-collapse: collapse;\n",
       "  }\n",
       "  th, td {\n",
       "    padding: 5px;\n",
       "  }\n",
       "  th {\n",
       "    text-align: left;\n",
       "  }\n",
       "</style><div class='table-result-container'><table class='table-result'><thead style='background-color: white'><tr><th>Unique_ID</th><th>Date</th><th>JSON_Data</th><th>Match_Performance</th><th>Injury_Status</th><th>Player_Position</th><th>Team_Name</th><th>Goals_Scored</th><th>Assists_Made</th><th>parsed_date</th></tr></thead><tbody><tr><td>TEAM_4822-PLAYER_9813</td><td>2023-09-08</td><td>{\"player_name\": \"Player_1\", \"stats\": {\"goals\": 4, \"assists\": 15, \"position\": \"Forward\", \"team\": {\"name\": \"Team_11\", \"stadium\": \"Stadium_2\"}}, \"is_captain\": true}</td><td>['Match_1', 'Match_2', 'Match_3', [8, 8, 6]]</td><td>false</td><td>Defender</td><td>Team_3</td><td>20</td><td>17</td><td>Sep 8, 2023</td></tr><tr><td>TEAM_6212-PLAYER_3438</td><td>2023-04-25</td><td>{\"player_name\": \"Player_2\", \"stats\": {\"goals\": 14, \"assists\": 19, \"position\": \"Midfielder\", \"team\": {\"name\": \"Team_16\", \"stadium\": \"Stadium_13\"}}, \"is_captain\": false}</td><td>['Match_1', 'Match_2', 'Match_3', [6, 10, 6]]</td><td>true</td><td>Defender</td><td>Team_19</td><td>11</td><td>14</td><td>Apr 25, 2023</td></tr><tr><td>TEAM_9590-PLAYER_3504</td><td>2023-01-21</td><td>{\"player_name\": \"Player_3\", \"stats\": {\"goals\": 7, \"assists\": 11, \"position\": \"Defender\", \"team\": {\"name\": \"Team_14\", \"stadium\": \"Stadium_5\"}}, \"is_captain\": false}</td><td>['Match_1', 'Match_2', 'Match_3', [7, 8, 6]]</td><td>false</td><td>Defender</td><td>Team_18</td><td>9</td><td>7</td><td>Jan 21, 2023</td></tr><tr><td>TEAM_4059-PLAYER_5756</td><td>2023-09-09</td><td>{\"player_name\": \"Player_4\", \"stats\": {\"goals\": 9, \"assists\": 20, \"position\": \"Forward\", \"team\": {\"name\": \"Team_12\", \"stadium\": \"Stadium_1\"}}, \"is_captain\": false}</td><td>['Match_1', 'Match_2', 'Match_3', [10, 6, 10]]</td><td>false</td><td>Forward</td><td>Team_6</td><td>10</td><td>14</td><td>Sep 9, 2023</td></tr><tr><td>TEAM_7904-PLAYER_8293</td><td>2023-11-09</td><td>{\"player_name\": \"Player_5\", \"stats\": {\"goals\": 11, \"assists\": 4, \"position\": \"Forward\", \"team\": {\"name\": \"Team_11\", \"stadium\": \"Stadium_12\"}}, \"is_captain\": false}</td><td>['Match_1', 'Match_2', 'Match_3', [9, 10, 7]]</td><td>true</td><td>Forward</td><td>Team_4</td><td>24</td><td>11</td><td>Nov 9, 2023</td></tr><tr><td>TEAM_9860-PLAYER_9831</td><td>2023-06-09</td><td>{\"player_name\": \"Player_6\", \"stats\": {\"goals\": 19, \"assists\": 10, \"position\": \"Forward\", \"team\": {\"name\": \"Team_1\", \"stadium\": \"Stadium_5\"}}, \"is_captain\": true}</td><td>['Match_1', 'Match_2', 'Match_3', [5, 8, 8]]</td><td>true</td><td>Forward</td><td>Team_6</td><td>3</td><td>7</td><td>Jun 9, 2023</td></tr><tr><td>TEAM_9147-PLAYER_4698</td><td>2023-02-16</td><td>{\"player_name\": \"Player_7\", \"stats\": {\"goals\": 17, \"assists\": 13, \"position\": \"Midfielder\", \"team\": {\"name\": \"Team_4\", \"stadium\": \"Stadium_19\"}}, \"is_captain\": true}</td><td>['Match_1', 'Match_2', 'Match_3', [5, 6, 8]]</td><td>true</td><td>Goalkeeper</td><td>Team_12</td><td>13</td><td>3</td><td>Feb 16, 2023</td></tr><tr><td>TEAM_5813-PLAYER_1667</td><td>2023-11-25</td><td>{\"player_name\": \"Player_8\", \"stats\": {\"goals\": 30, \"assists\": 16, \"position\": \"Forward\", \"team\": {\"name\": \"Team_16\", \"stadium\": \"Stadium_18\"}}, \"is_captain\": true}</td><td>['Match_1', 'Match_2', 'Match_3', [9, 10, 5]]</td><td>true</td><td>Goalkeeper</td><td>Team_7</td><td>0</td><td>17</td><td>Nov 25, 2023</td></tr><tr><td>TEAM_1981-PLAYER_3530</td><td>2023-10-08</td><td>{\"player_name\": \"Player_9\", \"stats\": {\"goals\": 0, \"assists\": 9, \"position\": \"Goalkeeper\", \"team\": {\"name\": \"Team_8\", \"stadium\": \"Stadium_11\"}}, \"is_captain\": true}</td><td>['Match_1', 'Match_2', 'Match_3', [10, 5, 9]]</td><td>true</td><td>Midfielder</td><td>Team_20</td><td>21</td><td>2</td><td>Oct 8, 2023</td></tr><tr><td>TEAM_7677-PLAYER_2064</td><td>2023-03-15</td><td>{\"player_name\": \"Player_10\", \"stats\": {\"goals\": 21, \"assists\": 16, \"position\": \"Midfielder\", \"team\": {\"name\": \"Team_1\", \"stadium\": \"Stadium_1\"}}, \"is_captain\": false}</td><td>['Match_1', 'Match_2', 'Match_3', [10, 9, 5]]</td><td>true</td><td>Midfielder</td><td>Team_11</td><td>11</td><td>9</td><td>Mar 15, 2023</td></tr><tr><td>TEAM_5046-PLAYER_9066</td><td>2023-05-18</td><td>{\"player_name\": \"Player_11\", \"stats\": {\"goals\": 16, \"assists\": 14, \"position\": \"Midfielder\", \"team\": {\"name\": \"Team_13\", \"stadium\": \"Stadium_7\"}}, \"is_captain\": true}</td><td>['Match_1', 'Match_2', 'Match_3', [9, 5, 6]]</td><td>false</td><td>Forward</td><td>Team_14</td><td>10</td><td>20</td><td>May 18, 2023</td></tr><tr><td>TEAM_9115-PLAYER_5655</td><td>2023-04-02</td><td>{\"player_name\": \"Player_12\", \"stats\": {\"goals\": 21, \"assists\": 7, \"position\": \"Goalkeeper\", \"team\": {\"name\": \"Team_3\", \"stadium\": \"Stadium_17\"}}, \"is_captain\": true}</td><td>['Match_1', 'Match_2', 'Match_3', [6, 9, 7]]</td><td>true</td><td>Forward</td><td>Team_11</td><td>28</td><td>6</td><td>Apr 2, 2023</td></tr><tr><td>TEAM_2008-PLAYER_4865</td><td>2023-10-16</td><td>{\"player_name\": \"Player_13\", \"stats\": {\"goals\": 7, \"assists\": 15, \"position\": \"Defender\", \"team\": {\"name\": \"Team_3\", \"stadium\": \"Stadium_1\"}}, \"is_captain\": false}</td><td>['Match_1', 'Match_2', 'Match_3', [10, 5, 6]]</td><td>false</td><td>Defender</td><td>Team_10</td><td>16</td><td>14</td><td>Oct 16, 2023</td></tr><tr><td>TEAM_2153-PLAYER_2429</td><td>2023-07-19</td><td>{\"player_name\": \"Player_14\", \"stats\": {\"goals\": 3, \"assists\": 8, \"position\": \"Forward\", \"team\": {\"name\": \"Team_12\", \"stadium\": \"Stadium_2\"}}, \"is_captain\": false}</td><td>['Match_1', 'Match_2', 'Match_3', [10, 9, 7]]</td><td>true</td><td>Midfielder</td><td>Team_19</td><td>8</td><td>5</td><td>Jul 19, 2023</td></tr><tr><td>TEAM_6246-PLAYER_9328</td><td>2023-05-17</td><td>{\"player_name\": \"Player_15\", \"stats\": {\"goals\": 5, \"assists\": 12, \"position\": \"Midfielder\", \"team\": {\"name\": \"Team_20\", \"stadium\": \"Stadium_3\"}}, \"is_captain\": true}</td><td>['Match_1', 'Match_2', 'Match_3', [9, 5, 7]]</td><td>true</td><td>Goalkeeper</td><td>Team_1</td><td>29</td><td>20</td><td>May 17, 2023</td></tr><tr><td>TEAM_2573-PLAYER_7743</td><td>2023-02-28</td><td>{\"player_name\": \"Player_16\", \"stats\": {\"goals\": 30, \"assists\": 17, \"position\": \"Goalkeeper\", \"team\": {\"name\": \"Team_10\", \"stadium\": \"Stadium_5\"}}, \"is_captain\": false}</td><td>['Match_1', 'Match_2', 'Match_3', [5, 5, 6]]</td><td>true</td><td>Goalkeeper</td><td>Team_18</td><td>23</td><td>12</td><td>Feb 28, 2023</td></tr><tr><td>TEAM_9376-PLAYER_7020</td><td>2023-06-13</td><td>{\"player_name\": \"Player_17\", \"stats\": {\"goals\": 21, \"assists\": 19, \"position\": \"Forward\", \"team\": {\"name\": \"Team_2\", \"stadium\": \"Stadium_16\"}}, \"is_captain\": false}</td><td>['Match_1', 'Match_2', 'Match_3', [9, 6, 10]]</td><td>false</td><td>Defender</td><td>Team_4</td><td>4</td><td>1</td><td>Jun 13, 2023</td></tr><tr><td>TEAM_5483-PLAYER_5709</td><td>2023-04-19</td><td>{\"player_name\": \"Player_18\", \"stats\": {\"goals\": 17, \"assists\": 2, \"position\": \"Defender\", \"team\": {\"name\": \"Team_2\", \"stadium\": \"Stadium_4\"}}, \"is_captain\": false}</td><td>['Match_1', 'Match_2', 'Match_3', [8, 10, 8]]</td><td>false</td><td>Forward</td><td>Team_20</td><td>7</td><td>0</td><td>Apr 19, 2023</td></tr><tr><td>TEAM_7903-PLAYER_8959</td><td>2023-04-09</td><td>{\"player_name\": \"Player_19\", \"stats\": {\"goals\": 18, \"assists\": 10, \"position\": \"Goalkeeper\", \"team\": {\"name\": \"Team_8\", \"stadium\": \"Stadium_4\"}}, \"is_captain\": false}</td><td>['Match_1', 'Match_2', 'Match_3', [6, 5, 10]]</td><td>true</td><td>Goalkeeper</td><td>Team_13</td><td>10</td><td>15</td><td>Apr 9, 2023</td></tr><tr><td>TEAM_9814-PLAYER_3818</td><td>2023-05-10</td><td>{\"player_name\": \"Player_20\", \"stats\": {\"goals\": 1, \"assists\": 11, \"position\": \"Forward\", \"team\": {\"name\": \"Team_2\", \"stadium\": \"Stadium_10\"}}, \"is_captain\": false}</td><td>['Match_1', 'Match_2', 'Match_3', [8, 5, 8]]</td><td>false</td><td>Defender</td><td>Team_7</td><td>7</td><td>7</td><td>May 10, 2023</td></tr></tbody></table></div>"
      ]
     },
     "metadata": {
      "application/vnd.databricks.v1+output": {
       "addedWidgets": {},
       "aggData": [],
       "aggError": "",
       "aggOverflow": false,
       "aggSchema": [],
       "aggSeriesLimitReached": false,
       "aggType": "",
       "arguments": {},
       "columnCustomDisplayInfos": {},
       "data": [
        [
         "TEAM_4822-PLAYER_9813",
         "2023-09-08",
         "{\"player_name\": \"Player_1\", \"stats\": {\"goals\": 4, \"assists\": 15, \"position\": \"Forward\", \"team\": {\"name\": \"Team_11\", \"stadium\": \"Stadium_2\"}}, \"is_captain\": true}",
         "['Match_1', 'Match_2', 'Match_3', [8, 8, 6]]",
         false,
         "Defender",
         "Team_3",
         20,
         17,
         "Sep 8, 2023"
        ],
        [
         "TEAM_6212-PLAYER_3438",
         "2023-04-25",
         "{\"player_name\": \"Player_2\", \"stats\": {\"goals\": 14, \"assists\": 19, \"position\": \"Midfielder\", \"team\": {\"name\": \"Team_16\", \"stadium\": \"Stadium_13\"}}, \"is_captain\": false}",
         "['Match_1', 'Match_2', 'Match_3', [6, 10, 6]]",
         true,
         "Defender",
         "Team_19",
         11,
         14,
         "Apr 25, 2023"
        ],
        [
         "TEAM_9590-PLAYER_3504",
         "2023-01-21",
         "{\"player_name\": \"Player_3\", \"stats\": {\"goals\": 7, \"assists\": 11, \"position\": \"Defender\", \"team\": {\"name\": \"Team_14\", \"stadium\": \"Stadium_5\"}}, \"is_captain\": false}",
         "['Match_1', 'Match_2', 'Match_3', [7, 8, 6]]",
         false,
         "Defender",
         "Team_18",
         9,
         7,
         "Jan 21, 2023"
        ],
        [
         "TEAM_4059-PLAYER_5756",
         "2023-09-09",
         "{\"player_name\": \"Player_4\", \"stats\": {\"goals\": 9, \"assists\": 20, \"position\": \"Forward\", \"team\": {\"name\": \"Team_12\", \"stadium\": \"Stadium_1\"}}, \"is_captain\": false}",
         "['Match_1', 'Match_2', 'Match_3', [10, 6, 10]]",
         false,
         "Forward",
         "Team_6",
         10,
         14,
         "Sep 9, 2023"
        ],
        [
         "TEAM_7904-PLAYER_8293",
         "2023-11-09",
         "{\"player_name\": \"Player_5\", \"stats\": {\"goals\": 11, \"assists\": 4, \"position\": \"Forward\", \"team\": {\"name\": \"Team_11\", \"stadium\": \"Stadium_12\"}}, \"is_captain\": false}",
         "['Match_1', 'Match_2', 'Match_3', [9, 10, 7]]",
         true,
         "Forward",
         "Team_4",
         24,
         11,
         "Nov 9, 2023"
        ],
        [
         "TEAM_9860-PLAYER_9831",
         "2023-06-09",
         "{\"player_name\": \"Player_6\", \"stats\": {\"goals\": 19, \"assists\": 10, \"position\": \"Forward\", \"team\": {\"name\": \"Team_1\", \"stadium\": \"Stadium_5\"}}, \"is_captain\": true}",
         "['Match_1', 'Match_2', 'Match_3', [5, 8, 8]]",
         true,
         "Forward",
         "Team_6",
         3,
         7,
         "Jun 9, 2023"
        ],
        [
         "TEAM_9147-PLAYER_4698",
         "2023-02-16",
         "{\"player_name\": \"Player_7\", \"stats\": {\"goals\": 17, \"assists\": 13, \"position\": \"Midfielder\", \"team\": {\"name\": \"Team_4\", \"stadium\": \"Stadium_19\"}}, \"is_captain\": true}",
         "['Match_1', 'Match_2', 'Match_3', [5, 6, 8]]",
         true,
         "Goalkeeper",
         "Team_12",
         13,
         3,
         "Feb 16, 2023"
        ],
        [
         "TEAM_5813-PLAYER_1667",
         "2023-11-25",
         "{\"player_name\": \"Player_8\", \"stats\": {\"goals\": 30, \"assists\": 16, \"position\": \"Forward\", \"team\": {\"name\": \"Team_16\", \"stadium\": \"Stadium_18\"}}, \"is_captain\": true}",
         "['Match_1', 'Match_2', 'Match_3', [9, 10, 5]]",
         true,
         "Goalkeeper",
         "Team_7",
         0,
         17,
         "Nov 25, 2023"
        ],
        [
         "TEAM_1981-PLAYER_3530",
         "2023-10-08",
         "{\"player_name\": \"Player_9\", \"stats\": {\"goals\": 0, \"assists\": 9, \"position\": \"Goalkeeper\", \"team\": {\"name\": \"Team_8\", \"stadium\": \"Stadium_11\"}}, \"is_captain\": true}",
         "['Match_1', 'Match_2', 'Match_3', [10, 5, 9]]",
         true,
         "Midfielder",
         "Team_20",
         21,
         2,
         "Oct 8, 2023"
        ],
        [
         "TEAM_7677-PLAYER_2064",
         "2023-03-15",
         "{\"player_name\": \"Player_10\", \"stats\": {\"goals\": 21, \"assists\": 16, \"position\": \"Midfielder\", \"team\": {\"name\": \"Team_1\", \"stadium\": \"Stadium_1\"}}, \"is_captain\": false}",
         "['Match_1', 'Match_2', 'Match_3', [10, 9, 5]]",
         true,
         "Midfielder",
         "Team_11",
         11,
         9,
         "Mar 15, 2023"
        ],
        [
         "TEAM_5046-PLAYER_9066",
         "2023-05-18",
         "{\"player_name\": \"Player_11\", \"stats\": {\"goals\": 16, \"assists\": 14, \"position\": \"Midfielder\", \"team\": {\"name\": \"Team_13\", \"stadium\": \"Stadium_7\"}}, \"is_captain\": true}",
         "['Match_1', 'Match_2', 'Match_3', [9, 5, 6]]",
         false,
         "Forward",
         "Team_14",
         10,
         20,
         "May 18, 2023"
        ],
        [
         "TEAM_9115-PLAYER_5655",
         "2023-04-02",
         "{\"player_name\": \"Player_12\", \"stats\": {\"goals\": 21, \"assists\": 7, \"position\": \"Goalkeeper\", \"team\": {\"name\": \"Team_3\", \"stadium\": \"Stadium_17\"}}, \"is_captain\": true}",
         "['Match_1', 'Match_2', 'Match_3', [6, 9, 7]]",
         true,
         "Forward",
         "Team_11",
         28,
         6,
         "Apr 2, 2023"
        ],
        [
         "TEAM_2008-PLAYER_4865",
         "2023-10-16",
         "{\"player_name\": \"Player_13\", \"stats\": {\"goals\": 7, \"assists\": 15, \"position\": \"Defender\", \"team\": {\"name\": \"Team_3\", \"stadium\": \"Stadium_1\"}}, \"is_captain\": false}",
         "['Match_1', 'Match_2', 'Match_3', [10, 5, 6]]",
         false,
         "Defender",
         "Team_10",
         16,
         14,
         "Oct 16, 2023"
        ],
        [
         "TEAM_2153-PLAYER_2429",
         "2023-07-19",
         "{\"player_name\": \"Player_14\", \"stats\": {\"goals\": 3, \"assists\": 8, \"position\": \"Forward\", \"team\": {\"name\": \"Team_12\", \"stadium\": \"Stadium_2\"}}, \"is_captain\": false}",
         "['Match_1', 'Match_2', 'Match_3', [10, 9, 7]]",
         true,
         "Midfielder",
         "Team_19",
         8,
         5,
         "Jul 19, 2023"
        ],
        [
         "TEAM_6246-PLAYER_9328",
         "2023-05-17",
         "{\"player_name\": \"Player_15\", \"stats\": {\"goals\": 5, \"assists\": 12, \"position\": \"Midfielder\", \"team\": {\"name\": \"Team_20\", \"stadium\": \"Stadium_3\"}}, \"is_captain\": true}",
         "['Match_1', 'Match_2', 'Match_3', [9, 5, 7]]",
         true,
         "Goalkeeper",
         "Team_1",
         29,
         20,
         "May 17, 2023"
        ],
        [
         "TEAM_2573-PLAYER_7743",
         "2023-02-28",
         "{\"player_name\": \"Player_16\", \"stats\": {\"goals\": 30, \"assists\": 17, \"position\": \"Goalkeeper\", \"team\": {\"name\": \"Team_10\", \"stadium\": \"Stadium_5\"}}, \"is_captain\": false}",
         "['Match_1', 'Match_2', 'Match_3', [5, 5, 6]]",
         true,
         "Goalkeeper",
         "Team_18",
         23,
         12,
         "Feb 28, 2023"
        ],
        [
         "TEAM_9376-PLAYER_7020",
         "2023-06-13",
         "{\"player_name\": \"Player_17\", \"stats\": {\"goals\": 21, \"assists\": 19, \"position\": \"Forward\", \"team\": {\"name\": \"Team_2\", \"stadium\": \"Stadium_16\"}}, \"is_captain\": false}",
         "['Match_1', 'Match_2', 'Match_3', [9, 6, 10]]",
         false,
         "Defender",
         "Team_4",
         4,
         1,
         "Jun 13, 2023"
        ],
        [
         "TEAM_5483-PLAYER_5709",
         "2023-04-19",
         "{\"player_name\": \"Player_18\", \"stats\": {\"goals\": 17, \"assists\": 2, \"position\": \"Defender\", \"team\": {\"name\": \"Team_2\", \"stadium\": \"Stadium_4\"}}, \"is_captain\": false}",
         "['Match_1', 'Match_2', 'Match_3', [8, 10, 8]]",
         false,
         "Forward",
         "Team_20",
         7,
         0,
         "Apr 19, 2023"
        ],
        [
         "TEAM_7903-PLAYER_8959",
         "2023-04-09",
         "{\"player_name\": \"Player_19\", \"stats\": {\"goals\": 18, \"assists\": 10, \"position\": \"Goalkeeper\", \"team\": {\"name\": \"Team_8\", \"stadium\": \"Stadium_4\"}}, \"is_captain\": false}",
         "['Match_1', 'Match_2', 'Match_3', [6, 5, 10]]",
         true,
         "Goalkeeper",
         "Team_13",
         10,
         15,
         "Apr 9, 2023"
        ],
        [
         "TEAM_9814-PLAYER_3818",
         "2023-05-10",
         "{\"player_name\": \"Player_20\", \"stats\": {\"goals\": 1, \"assists\": 11, \"position\": \"Forward\", \"team\": {\"name\": \"Team_2\", \"stadium\": \"Stadium_10\"}}, \"is_captain\": false}",
         "['Match_1', 'Match_2', 'Match_3', [8, 5, 8]]",
         false,
         "Defender",
         "Team_7",
         7,
         7,
         "May 10, 2023"
        ]
       ],
       "datasetInfos": [],
       "dbfsResultPath": null,
       "isJsonSchema": true,
       "metadata": {},
       "overflow": false,
       "plotOptions": {
        "customPlotOptions": {},
        "displayType": "table",
        "pivotAggregation": null,
        "pivotColumns": null,
        "xColumns": null,
        "yColumns": null
       },
       "removedWidgets": [],
       "schema": [
        {
         "metadata": "{}",
         "name": "Unique_ID",
         "type": "\"string\""
        },
        {
         "metadata": "{\"__detected_date_formats\":\"yyyy-M-d\"}",
         "name": "Date",
         "type": "\"date\""
        },
        {
         "metadata": "{}",
         "name": "JSON_Data",
         "type": "\"string\""
        },
        {
         "metadata": "{}",
         "name": "Match_Performance",
         "type": "\"string\""
        },
        {
         "metadata": "{}",
         "name": "Injury_Status",
         "type": "\"boolean\""
        },
        {
         "metadata": "{}",
         "name": "Player_Position",
         "type": "\"string\""
        },
        {
         "metadata": "{}",
         "name": "Team_Name",
         "type": "\"string\""
        },
        {
         "metadata": "{}",
         "name": "Goals_Scored",
         "type": "\"integer\""
        },
        {
         "metadata": "{}",
         "name": "Assists_Made",
         "type": "\"integer\""
        },
        {
         "metadata": "{}",
         "name": "parsed_date",
         "type": "\"string\""
        }
       ],
       "type": "table"
      }
     },
     "output_type": "display_data"
    }
   ],
   "source": [
    "from pyspark.sql.functions import date_format\n",
    "\n",
    "display(df.withColumn(\"parsed_date\",date_format(df['Date'],\"MMM d, yyyy\")))"
   ]
  },
  {
   "cell_type": "markdown",
   "metadata": {
    "application/vnd.databricks.v1+cell": {
     "cellMetadata": {},
     "inputWidgets": {},
     "nuid": "96789d33-9e2d-4285-91db-30a6b483e053",
     "showTitle": false,
     "title": ""
    }
   },
   "source": [
    "**Data Masking**"
   ]
  },
  {
   "cell_type": "code",
   "execution_count": 0,
   "metadata": {
    "application/vnd.databricks.v1+cell": {
     "cellMetadata": {
      "byteLimit": 2048000,
      "implicitDf": true,
      "rowLimit": 10000
     },
     "inputWidgets": {},
     "nuid": "fdfed017-88d2-4332-a26b-1b5b8825d9dc",
     "showTitle": false,
     "title": ""
    }
   },
   "outputs": [
    {
     "output_type": "display_data",
     "data": {
      "text/html": [
       "<style scoped>\n",
       "  .table-result-container {\n",
       "    max-height: 300px;\n",
       "    overflow: auto;\n",
       "  }\n",
       "  table, th, td {\n",
       "    border: 1px solid black;\n",
       "    border-collapse: collapse;\n",
       "  }\n",
       "  th, td {\n",
       "    padding: 5px;\n",
       "  }\n",
       "  th {\n",
       "    text-align: left;\n",
       "  }\n",
       "</style><div class='table-result-container'><table class='table-result'><thead style='background-color: white'><tr></tr></thead><tbody></tbody></table></div>"
      ]
     },
     "metadata": {
      "application/vnd.databricks.v1+output": {
       "addedWidgets": {},
       "aggData": [],
       "aggError": "",
       "aggOverflow": false,
       "aggSchema": [],
       "aggSeriesLimitReached": false,
       "aggType": "",
       "arguments": {},
       "columnCustomDisplayInfos": {},
       "data": [],
       "datasetInfos": [],
       "dbfsResultPath": null,
       "isJsonSchema": true,
       "metadata": {
        "dataframeName": null
       },
       "overflow": false,
       "plotOptions": {
        "customPlotOptions": {},
        "displayType": "table",
        "pivotAggregation": null,
        "pivotColumns": null,
        "xColumns": null,
        "yColumns": null
       },
       "removedWidgets": [],
       "schema": [],
       "type": "table"
      }
     },
     "output_type": "display_data"
    }
   ],
   "source": [
    "%sql\n",
    "CREATE OR REPLACE FUNCTION TEST_MASKING(X String)\n",
    "returns STRING\n",
    "return concat(repeat(\"*\", length(X) -2), right(X, 2));"
   ]
  },
  {
   "cell_type": "code",
   "execution_count": 0,
   "metadata": {
    "application/vnd.databricks.v1+cell": {
     "cellMetadata": {
      "byteLimit": 2048000,
      "implicitDf": true,
      "rowLimit": 10000
     },
     "inputWidgets": {},
     "nuid": "75247352-971f-42fb-8ceb-e0b9e95a5938",
     "showTitle": false,
     "title": ""
    }
   },
   "outputs": [
    {
     "output_type": "display_data",
     "data": {
      "text/html": [
       "<style scoped>\n",
       "  .table-result-container {\n",
       "    max-height: 300px;\n",
       "    overflow: auto;\n",
       "  }\n",
       "  table, th, td {\n",
       "    border: 1px solid black;\n",
       "    border-collapse: collapse;\n",
       "  }\n",
       "  th, td {\n",
       "    padding: 5px;\n",
       "  }\n",
       "  th {\n",
       "    text-align: left;\n",
       "  }\n",
       "</style><div class='table-result-container'><table class='table-result'><thead style='background-color: white'><tr><th>akash_workspace.default.test_masking(UNIQUE_ID)</th></tr></thead><tbody><tr><td>*******************13</td></tr><tr><td>*******************38</td></tr><tr><td>*******************04</td></tr><tr><td>*******************56</td></tr><tr><td>*******************93</td></tr><tr><td>*******************31</td></tr><tr><td>*******************98</td></tr><tr><td>*******************67</td></tr><tr><td>*******************30</td></tr><tr><td>*******************64</td></tr><tr><td>*******************66</td></tr><tr><td>*******************55</td></tr><tr><td>*******************65</td></tr><tr><td>*******************29</td></tr><tr><td>*******************28</td></tr><tr><td>*******************43</td></tr><tr><td>*******************20</td></tr><tr><td>*******************09</td></tr><tr><td>*******************59</td></tr><tr><td>*******************18</td></tr></tbody></table></div>"
      ]
     },
     "metadata": {
      "application/vnd.databricks.v1+output": {
       "addedWidgets": {},
       "aggData": [],
       "aggError": "",
       "aggOverflow": false,
       "aggSchema": [],
       "aggSeriesLimitReached": false,
       "aggType": "",
       "arguments": {},
       "columnCustomDisplayInfos": {},
       "data": [
        [
         "*******************13"
        ],
        [
         "*******************38"
        ],
        [
         "*******************04"
        ],
        [
         "*******************56"
        ],
        [
         "*******************93"
        ],
        [
         "*******************31"
        ],
        [
         "*******************98"
        ],
        [
         "*******************67"
        ],
        [
         "*******************30"
        ],
        [
         "*******************64"
        ],
        [
         "*******************66"
        ],
        [
         "*******************55"
        ],
        [
         "*******************65"
        ],
        [
         "*******************29"
        ],
        [
         "*******************28"
        ],
        [
         "*******************43"
        ],
        [
         "*******************20"
        ],
        [
         "*******************09"
        ],
        [
         "*******************59"
        ],
        [
         "*******************18"
        ]
       ],
       "datasetInfos": [],
       "dbfsResultPath": null,
       "isJsonSchema": true,
       "metadata": {
        "dataframeName": "_sqldf",
        "executionCount": 25
       },
       "overflow": false,
       "plotOptions": {
        "customPlotOptions": {},
        "displayType": "table",
        "pivotAggregation": null,
        "pivotColumns": null,
        "xColumns": null,
        "yColumns": null
       },
       "removedWidgets": [],
       "schema": [
        {
         "metadata": "{\"__autoGeneratedAlias\":\"true\"}",
         "name": "akash_workspace.default.test_masking(UNIQUE_ID)",
         "type": "\"string\""
        }
       ],
       "type": "table"
      }
     },
     "output_type": "display_data"
    }
   ],
   "source": [
    "%sql\n",
    "SELECT TEST_MASKING(UNIQUE_ID) FROM FOOTBALL;"
   ]
  }
 ],
 "metadata": {
  "application/vnd.databricks.v1+notebook": {
   "dashboards": [],
   "environmentMetadata": null,
   "language": "python",
   "notebookMetadata": {
    "mostRecentlyExecutedCommandWithImplicitDF": {
     "commandId": 247241898283469,
     "dataframes": [
      "_sqldf"
     ]
    },
    "pythonIndentUnit": 4
   },
   "notebookName": "learning project",
   "widgets": {}
  }
 },
 "nbformat": 4,
 "nbformat_minor": 0
}
